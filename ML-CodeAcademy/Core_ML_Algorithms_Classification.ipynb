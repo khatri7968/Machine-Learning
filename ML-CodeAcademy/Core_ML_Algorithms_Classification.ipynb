{
 "cells": [
  {
   "cell_type": "code",
   "execution_count": 1,
   "id": "6c0aa78a",
   "metadata": {},
   "outputs": [],
   "source": [
    "import tensorflow as tf\n",
    "import pandas as pd"
   ]
  },
  {
   "cell_type": "code",
   "execution_count": 2,
   "id": "7caff2b8",
   "metadata": {},
   "outputs": [],
   "source": [
    "csv_column_names = ['Sepallength', 'Sepalwidth', 'Petallength', 'Petalwidth', 'Species']\n",
    "species = ['Setosa', 'Versicolor', 'Virginica']"
   ]
  },
  {
   "cell_type": "code",
   "execution_count": 3,
   "id": "34a0af85",
   "metadata": {},
   "outputs": [],
   "source": [
    "train_df = pd.read_csv('https://storage.googleapis.com/download.tensorflow.org/data/iris_training.csv', names=csv_column_names, header=0)\n",
    "test_df = pd.read_csv('https://storage.googleapis.com/download.tensorflow.org/data/iris_test.csv', names=csv_column_names, header=0)"
   ]
  },
  {
   "cell_type": "code",
   "execution_count": 4,
   "id": "689c211d",
   "metadata": {},
   "outputs": [
    {
     "data": {
      "text/html": [
       "<div>\n",
       "<style scoped>\n",
       "    .dataframe tbody tr th:only-of-type {\n",
       "        vertical-align: middle;\n",
       "    }\n",
       "\n",
       "    .dataframe tbody tr th {\n",
       "        vertical-align: top;\n",
       "    }\n",
       "\n",
       "    .dataframe thead th {\n",
       "        text-align: right;\n",
       "    }\n",
       "</style>\n",
       "<table border=\"1\" class=\"dataframe\">\n",
       "  <thead>\n",
       "    <tr style=\"text-align: right;\">\n",
       "      <th></th>\n",
       "      <th>Sepallength</th>\n",
       "      <th>Sepalwidth</th>\n",
       "      <th>Petallength</th>\n",
       "      <th>Petalwidth</th>\n",
       "      <th>Species</th>\n",
       "    </tr>\n",
       "  </thead>\n",
       "  <tbody>\n",
       "    <tr>\n",
       "      <th>0</th>\n",
       "      <td>6.4</td>\n",
       "      <td>2.8</td>\n",
       "      <td>5.6</td>\n",
       "      <td>2.2</td>\n",
       "      <td>2</td>\n",
       "    </tr>\n",
       "    <tr>\n",
       "      <th>1</th>\n",
       "      <td>5.0</td>\n",
       "      <td>2.3</td>\n",
       "      <td>3.3</td>\n",
       "      <td>1.0</td>\n",
       "      <td>1</td>\n",
       "    </tr>\n",
       "    <tr>\n",
       "      <th>2</th>\n",
       "      <td>4.9</td>\n",
       "      <td>2.5</td>\n",
       "      <td>4.5</td>\n",
       "      <td>1.7</td>\n",
       "      <td>2</td>\n",
       "    </tr>\n",
       "    <tr>\n",
       "      <th>3</th>\n",
       "      <td>4.9</td>\n",
       "      <td>3.1</td>\n",
       "      <td>1.5</td>\n",
       "      <td>0.1</td>\n",
       "      <td>0</td>\n",
       "    </tr>\n",
       "    <tr>\n",
       "      <th>4</th>\n",
       "      <td>5.7</td>\n",
       "      <td>3.8</td>\n",
       "      <td>1.7</td>\n",
       "      <td>0.3</td>\n",
       "      <td>0</td>\n",
       "    </tr>\n",
       "  </tbody>\n",
       "</table>\n",
       "</div>"
      ],
      "text/plain": [
       "   Sepallength  Sepalwidth  Petallength  Petalwidth  Species\n",
       "0          6.4         2.8          5.6         2.2        2\n",
       "1          5.0         2.3          3.3         1.0        1\n",
       "2          4.9         2.5          4.5         1.7        2\n",
       "3          4.9         3.1          1.5         0.1        0\n",
       "4          5.7         3.8          1.7         0.3        0"
      ]
     },
     "execution_count": 4,
     "metadata": {},
     "output_type": "execute_result"
    }
   ],
   "source": [
    "train_df.head()"
   ]
  },
  {
   "cell_type": "code",
   "execution_count": 5,
   "id": "fa089fdc",
   "metadata": {},
   "outputs": [
    {
     "data": {
      "text/html": [
       "<div>\n",
       "<style scoped>\n",
       "    .dataframe tbody tr th:only-of-type {\n",
       "        vertical-align: middle;\n",
       "    }\n",
       "\n",
       "    .dataframe tbody tr th {\n",
       "        vertical-align: top;\n",
       "    }\n",
       "\n",
       "    .dataframe thead th {\n",
       "        text-align: right;\n",
       "    }\n",
       "</style>\n",
       "<table border=\"1\" class=\"dataframe\">\n",
       "  <thead>\n",
       "    <tr style=\"text-align: right;\">\n",
       "      <th></th>\n",
       "      <th>Sepallength</th>\n",
       "      <th>Sepalwidth</th>\n",
       "      <th>Petallength</th>\n",
       "      <th>Petalwidth</th>\n",
       "    </tr>\n",
       "  </thead>\n",
       "  <tbody>\n",
       "    <tr>\n",
       "      <th>0</th>\n",
       "      <td>6.4</td>\n",
       "      <td>2.8</td>\n",
       "      <td>5.6</td>\n",
       "      <td>2.2</td>\n",
       "    </tr>\n",
       "    <tr>\n",
       "      <th>1</th>\n",
       "      <td>5.0</td>\n",
       "      <td>2.3</td>\n",
       "      <td>3.3</td>\n",
       "      <td>1.0</td>\n",
       "    </tr>\n",
       "    <tr>\n",
       "      <th>2</th>\n",
       "      <td>4.9</td>\n",
       "      <td>2.5</td>\n",
       "      <td>4.5</td>\n",
       "      <td>1.7</td>\n",
       "    </tr>\n",
       "    <tr>\n",
       "      <th>3</th>\n",
       "      <td>4.9</td>\n",
       "      <td>3.1</td>\n",
       "      <td>1.5</td>\n",
       "      <td>0.1</td>\n",
       "    </tr>\n",
       "    <tr>\n",
       "      <th>4</th>\n",
       "      <td>5.7</td>\n",
       "      <td>3.8</td>\n",
       "      <td>1.7</td>\n",
       "      <td>0.3</td>\n",
       "    </tr>\n",
       "  </tbody>\n",
       "</table>\n",
       "</div>"
      ],
      "text/plain": [
       "   Sepallength  Sepalwidth  Petallength  Petalwidth\n",
       "0          6.4         2.8          5.6         2.2\n",
       "1          5.0         2.3          3.3         1.0\n",
       "2          4.9         2.5          4.5         1.7\n",
       "3          4.9         3.1          1.5         0.1\n",
       "4          5.7         3.8          1.7         0.3"
      ]
     },
     "execution_count": 5,
     "metadata": {},
     "output_type": "execute_result"
    }
   ],
   "source": [
    "train_y = train_df.pop('Species')\n",
    "test_y = test_df.pop('Species')\n",
    "train_df.head()"
   ]
  },
  {
   "cell_type": "code",
   "execution_count": 6,
   "id": "a1001056",
   "metadata": {},
   "outputs": [
    {
     "data": {
      "text/plain": [
       "(120, 4)"
      ]
     },
     "execution_count": 6,
     "metadata": {},
     "output_type": "execute_result"
    }
   ],
   "source": [
    "train_df.shape"
   ]
  },
  {
   "cell_type": "markdown",
   "id": "a05f793e",
   "metadata": {},
   "source": [
    "***InputFunction***"
   ]
  },
  {
   "cell_type": "code",
   "execution_count": 19,
   "id": "67e526da",
   "metadata": {},
   "outputs": [],
   "source": [
    "def input_fn(features, labels, training=True, batch_size=256):\n",
    "    \n",
    "    dataset = tf.data.Dataset.from_tensor_slices((dict(features), labels))\n",
    "    \n",
    "    if training:\n",
    "        dataset = dataset.shuffle(1000).repeat()\n",
    "    \n",
    "    return dataset.batch(batch_size)"
   ]
  },
  {
   "cell_type": "code",
   "execution_count": 9,
   "id": "20de4ab7",
   "metadata": {},
   "outputs": [
    {
     "name": "stdout",
     "output_type": "stream",
     "text": [
      "[NumericColumn(key='Sepallength', shape=(1,), default_value=None, dtype=tf.float32, normalizer_fn=None), NumericColumn(key='Sepalwidth', shape=(1,), default_value=None, dtype=tf.float32, normalizer_fn=None), NumericColumn(key='Petallength', shape=(1,), default_value=None, dtype=tf.float32, normalizer_fn=None), NumericColumn(key='Petalwidth', shape=(1,), default_value=None, dtype=tf.float32, normalizer_fn=None)]\n"
     ]
    }
   ],
   "source": [
    "feature_columns = []\n",
    "for key in train_df.keys():\n",
    "    feature_columns.append(tf.feature_column.numeric_column(key=key))\n",
    "print(feature_columns)"
   ]
  },
  {
   "cell_type": "markdown",
   "id": "b389e854",
   "metadata": {},
   "source": [
    "***Building the Model***"
   ]
  },
  {
   "cell_type": "code",
   "execution_count": 13,
   "id": "dda64a2f",
   "metadata": {},
   "outputs": [
    {
     "name": "stdout",
     "output_type": "stream",
     "text": [
      "INFO:tensorflow:Using default config.\n",
      "WARNING:tensorflow:Using temporary folder as model directory: C:\\Users\\NTech\\AppData\\Local\\Temp\\tmph_ygj2bp\n",
      "INFO:tensorflow:Using config: {'_model_dir': 'C:\\\\Users\\\\NTech\\\\AppData\\\\Local\\\\Temp\\\\tmph_ygj2bp', '_tf_random_seed': None, '_save_summary_steps': 100, '_save_checkpoints_steps': None, '_save_checkpoints_secs': 600, '_session_config': allow_soft_placement: true\n",
      "graph_options {\n",
      "  rewrite_options {\n",
      "    meta_optimizer_iterations: ONE\n",
      "  }\n",
      "}\n",
      ", '_keep_checkpoint_max': 5, '_keep_checkpoint_every_n_hours': 10000, '_log_step_count_steps': 100, '_train_distribute': None, '_device_fn': None, '_protocol': None, '_eval_distribute': None, '_experimental_distribute': None, '_experimental_max_worker_delay_secs': None, '_session_creation_timeout_secs': 7200, '_checkpoint_save_graph_def': True, '_service': None, '_cluster_spec': ClusterSpec({}), '_task_type': 'worker', '_task_id': 0, '_global_id_in_cluster': 0, '_master': '', '_evaluation_master': '', '_is_chief': True, '_num_ps_replicas': 0, '_num_worker_replicas': 1}\n"
     ]
    }
   ],
   "source": [
    "classifier = tf.estimator.DNNClassifier(\n",
    "    feature_columns = feature_columns,\n",
    "    hidden_units = [30,10],\n",
    "    n_classes = 3\n",
    ")"
   ]
  },
  {
   "cell_type": "markdown",
   "id": "c9bba63b",
   "metadata": {},
   "source": [
    "***Training the Module***"
   ]
  },
  {
   "cell_type": "code",
   "execution_count": 20,
   "id": "65934ba9",
   "metadata": {},
   "outputs": [
    {
     "name": "stdout",
     "output_type": "stream",
     "text": [
      "INFO:tensorflow:Calling model_fn.\n",
      "WARNING:tensorflow:From C:\\Users\\NTech\\AppData\\Local\\Programs\\Python\\Python310\\lib\\site-packages\\keras\\optimizers\\optimizer_v2\\adagrad.py:86: calling Constant.__init__ (from tensorflow.python.ops.init_ops) with dtype is deprecated and will be removed in a future version.\n",
      "Instructions for updating:\n",
      "Call initializer instance with the dtype argument instead of passing it to the constructor\n",
      "INFO:tensorflow:Done calling model_fn.\n",
      "INFO:tensorflow:Create CheckpointSaverHook.\n",
      "INFO:tensorflow:Graph was finalized.\n",
      "INFO:tensorflow:Running local_init_op.\n",
      "INFO:tensorflow:Done running local_init_op.\n",
      "INFO:tensorflow:Calling checkpoint listeners before saving checkpoint 0...\n",
      "INFO:tensorflow:Saving checkpoints for 0 into C:\\Users\\NTech\\AppData\\Local\\Temp\\tmph_ygj2bp\\model.ckpt.\n",
      "INFO:tensorflow:C:\\Users\\NTech\\AppData\\Local\\Temp\\tmph_ygj2bp\\model.ckpt-0.data-00000-of-00001\n",
      "INFO:tensorflow:0\n",
      "INFO:tensorflow:C:\\Users\\NTech\\AppData\\Local\\Temp\\tmph_ygj2bp\\model.ckpt-0.index\n",
      "INFO:tensorflow:0\n",
      "INFO:tensorflow:C:\\Users\\NTech\\AppData\\Local\\Temp\\tmph_ygj2bp\\model.ckpt-0.meta\n",
      "INFO:tensorflow:100\n",
      "INFO:tensorflow:Calling checkpoint listeners after saving checkpoint 0...\n",
      "INFO:tensorflow:loss = 1.1221921, step = 0\n",
      "INFO:tensorflow:global_step/sec: 262.772\n",
      "INFO:tensorflow:loss = 0.8572333, step = 100 (0.383 sec)\n",
      "INFO:tensorflow:global_step/sec: 337.511\n",
      "INFO:tensorflow:loss = 0.82252383, step = 200 (0.296 sec)\n",
      "INFO:tensorflow:global_step/sec: 329.877\n",
      "INFO:tensorflow:loss = 0.78179836, step = 300 (0.302 sec)\n",
      "INFO:tensorflow:global_step/sec: 323.506\n",
      "INFO:tensorflow:loss = 0.7529861, step = 400 (0.310 sec)\n",
      "INFO:tensorflow:global_step/sec: 330.914\n",
      "INFO:tensorflow:loss = 0.7325484, step = 500 (0.302 sec)\n",
      "INFO:tensorflow:global_step/sec: 337.813\n",
      "INFO:tensorflow:loss = 0.7143464, step = 600 (0.297 sec)\n",
      "INFO:tensorflow:global_step/sec: 327.085\n",
      "INFO:tensorflow:loss = 0.69046926, step = 700 (0.306 sec)\n",
      "INFO:tensorflow:global_step/sec: 308.561\n",
      "INFO:tensorflow:loss = 0.6780852, step = 800 (0.324 sec)\n",
      "INFO:tensorflow:global_step/sec: 304.72\n",
      "INFO:tensorflow:loss = 0.6603111, step = 900 (0.328 sec)\n",
      "INFO:tensorflow:global_step/sec: 307.624\n",
      "INFO:tensorflow:loss = 0.6551899, step = 1000 (0.324 sec)\n",
      "INFO:tensorflow:global_step/sec: 306.673\n",
      "INFO:tensorflow:loss = 0.6409743, step = 1100 (0.327 sec)\n",
      "INFO:tensorflow:global_step/sec: 305.24\n",
      "INFO:tensorflow:loss = 0.62842655, step = 1200 (0.328 sec)\n",
      "INFO:tensorflow:global_step/sec: 309.166\n",
      "INFO:tensorflow:loss = 0.6206262, step = 1300 (0.323 sec)\n",
      "INFO:tensorflow:global_step/sec: 331.088\n",
      "INFO:tensorflow:loss = 0.60747397, step = 1400 (0.301 sec)\n",
      "INFO:tensorflow:global_step/sec: 338.071\n",
      "INFO:tensorflow:loss = 0.5938562, step = 1500 (0.296 sec)\n",
      "INFO:tensorflow:global_step/sec: 334.711\n",
      "INFO:tensorflow:loss = 0.5997976, step = 1600 (0.299 sec)\n",
      "INFO:tensorflow:global_step/sec: 327.625\n",
      "INFO:tensorflow:loss = 0.58726555, step = 1700 (0.305 sec)\n",
      "INFO:tensorflow:global_step/sec: 329.623\n",
      "INFO:tensorflow:loss = 0.5694331, step = 1800 (0.305 sec)\n",
      "INFO:tensorflow:global_step/sec: 337.117\n",
      "INFO:tensorflow:loss = 0.58080745, step = 1900 (0.294 sec)\n",
      "INFO:tensorflow:global_step/sec: 330.313\n",
      "INFO:tensorflow:loss = 0.56524503, step = 2000 (0.304 sec)\n",
      "INFO:tensorflow:global_step/sec: 342.636\n",
      "INFO:tensorflow:loss = 0.5541146, step = 2100 (0.291 sec)\n",
      "INFO:tensorflow:global_step/sec: 323.276\n",
      "INFO:tensorflow:loss = 0.56438684, step = 2200 (0.310 sec)\n",
      "INFO:tensorflow:global_step/sec: 313.183\n",
      "INFO:tensorflow:loss = 0.5352399, step = 2300 (0.318 sec)\n",
      "INFO:tensorflow:global_step/sec: 329.526\n",
      "INFO:tensorflow:loss = 0.5373263, step = 2400 (0.303 sec)\n",
      "INFO:tensorflow:global_step/sec: 328.32\n",
      "INFO:tensorflow:loss = 0.5285823, step = 2500 (0.305 sec)\n",
      "INFO:tensorflow:global_step/sec: 337.493\n",
      "INFO:tensorflow:loss = 0.5279037, step = 2600 (0.297 sec)\n",
      "INFO:tensorflow:global_step/sec: 329.125\n",
      "INFO:tensorflow:loss = 0.5203059, step = 2700 (0.303 sec)\n",
      "INFO:tensorflow:global_step/sec: 339.812\n",
      "INFO:tensorflow:loss = 0.5074146, step = 2800 (0.294 sec)\n",
      "INFO:tensorflow:global_step/sec: 323.488\n",
      "INFO:tensorflow:loss = 0.526016, step = 2900 (0.309 sec)\n",
      "INFO:tensorflow:global_step/sec: 340.325\n",
      "INFO:tensorflow:loss = 0.5133855, step = 3000 (0.295 sec)\n",
      "INFO:tensorflow:global_step/sec: 330.461\n",
      "INFO:tensorflow:loss = 0.51095736, step = 3100 (0.302 sec)\n",
      "INFO:tensorflow:global_step/sec: 330.506\n",
      "INFO:tensorflow:loss = 0.49014673, step = 3200 (0.303 sec)\n",
      "INFO:tensorflow:global_step/sec: 344.072\n",
      "INFO:tensorflow:loss = 0.5051831, step = 3300 (0.290 sec)\n",
      "INFO:tensorflow:global_step/sec: 341.889\n",
      "INFO:tensorflow:loss = 0.4867748, step = 3400 (0.294 sec)\n",
      "INFO:tensorflow:global_step/sec: 342.149\n",
      "INFO:tensorflow:loss = 0.4902683, step = 3500 (0.291 sec)\n",
      "INFO:tensorflow:global_step/sec: 338.709\n",
      "INFO:tensorflow:loss = 0.4860488, step = 3600 (0.295 sec)\n",
      "INFO:tensorflow:global_step/sec: 341.086\n",
      "INFO:tensorflow:loss = 0.48730505, step = 3700 (0.293 sec)\n",
      "INFO:tensorflow:global_step/sec: 328.755\n",
      "INFO:tensorflow:loss = 0.46518588, step = 3800 (0.303 sec)\n",
      "INFO:tensorflow:global_step/sec: 335.207\n",
      "INFO:tensorflow:loss = 0.47730535, step = 3900 (0.299 sec)\n",
      "INFO:tensorflow:global_step/sec: 343.899\n",
      "INFO:tensorflow:loss = 0.49228492, step = 4000 (0.291 sec)\n",
      "INFO:tensorflow:global_step/sec: 337.322\n",
      "INFO:tensorflow:loss = 0.44948712, step = 4100 (0.297 sec)\n",
      "INFO:tensorflow:global_step/sec: 339.566\n",
      "INFO:tensorflow:loss = 0.4617945, step = 4200 (0.294 sec)\n",
      "INFO:tensorflow:global_step/sec: 340.362\n",
      "INFO:tensorflow:loss = 0.46474794, step = 4300 (0.293 sec)\n",
      "INFO:tensorflow:global_step/sec: 334.178\n",
      "INFO:tensorflow:loss = 0.4615035, step = 4400 (0.299 sec)\n",
      "INFO:tensorflow:global_step/sec: 337.133\n",
      "INFO:tensorflow:loss = 0.46062696, step = 4500 (0.298 sec)\n",
      "INFO:tensorflow:global_step/sec: 334.22\n",
      "INFO:tensorflow:loss = 0.45875457, step = 4600 (0.299 sec)\n",
      "INFO:tensorflow:global_step/sec: 345.592\n",
      "INFO:tensorflow:loss = 0.45267856, step = 4700 (0.288 sec)\n",
      "INFO:tensorflow:global_step/sec: 346.973\n",
      "INFO:tensorflow:loss = 0.4475348, step = 4800 (0.289 sec)\n",
      "INFO:tensorflow:global_step/sec: 315.995\n",
      "INFO:tensorflow:loss = 0.43006897, step = 4900 (0.317 sec)\n",
      "INFO:tensorflow:Calling checkpoint listeners before saving checkpoint 5000...\n",
      "INFO:tensorflow:Saving checkpoints for 5000 into C:\\Users\\NTech\\AppData\\Local\\Temp\\tmph_ygj2bp\\model.ckpt.\n",
      "INFO:tensorflow:C:\\Users\\NTech\\AppData\\Local\\Temp\\tmph_ygj2bp\\model.ckpt-5000.data-00000-of-00001\n",
      "INFO:tensorflow:0\n",
      "INFO:tensorflow:C:\\Users\\NTech\\AppData\\Local\\Temp\\tmph_ygj2bp\\model.ckpt-5000.index\n",
      "INFO:tensorflow:0\n",
      "INFO:tensorflow:C:\\Users\\NTech\\AppData\\Local\\Temp\\tmph_ygj2bp\\model.ckpt-5000.meta\n",
      "INFO:tensorflow:100\n",
      "INFO:tensorflow:Calling checkpoint listeners after saving checkpoint 5000...\n",
      "INFO:tensorflow:Loss for final step: 0.45337042.\n"
     ]
    },
    {
     "data": {
      "text/plain": [
       "<tensorflow_estimator.python.estimator.canned.dnn.DNNClassifierV2 at 0x20f537182e0>"
      ]
     },
     "execution_count": 20,
     "metadata": {},
     "output_type": "execute_result"
    }
   ],
   "source": [
    "classifier.train(\n",
    "    input_fn = lambda: input_fn(train_df, train_y, training=True),\n",
    "    steps = 5000\n",
    "    )"
   ]
  },
  {
   "cell_type": "markdown",
   "id": "e5180849",
   "metadata": {},
   "source": [
    "***Testing the Model***"
   ]
  },
  {
   "cell_type": "code",
   "execution_count": 26,
   "id": "0649c230",
   "metadata": {},
   "outputs": [
    {
     "name": "stdout",
     "output_type": "stream",
     "text": [
      "INFO:tensorflow:Calling model_fn.\n",
      "INFO:tensorflow:Done calling model_fn.\n",
      "INFO:tensorflow:Starting evaluation at 2022-08-25T08:15:53\n",
      "INFO:tensorflow:Graph was finalized.\n",
      "INFO:tensorflow:Restoring parameters from C:\\Users\\NTech\\AppData\\Local\\Temp\\tmph_ygj2bp\\model.ckpt-5000\n",
      "INFO:tensorflow:Running local_init_op.\n",
      "INFO:tensorflow:Done running local_init_op.\n",
      "INFO:tensorflow:Inference Time : 0.39994s\n",
      "INFO:tensorflow:Finished evaluation at 2022-08-25-08:15:53\n",
      "INFO:tensorflow:Saving dict for global step 5000: accuracy = 0.56666666, average_loss = 0.5376325, global_step = 5000, loss = 0.5376325\n",
      "INFO:tensorflow:Saving 'checkpoint_path' summary for global step 5000: C:\\Users\\NTech\\AppData\\Local\\Temp\\tmph_ygj2bp\\model.ckpt-5000\n",
      "Test set accuracy: {'accuracy': 0.56666666, 'average_loss': 0.5376325, 'loss': 0.5376325, 'global_step': 5000}\n"
     ]
    }
   ],
   "source": [
    "eval_result = classifier.evaluate(input_fn = lambda: input_fn(test_df, test_y, training=False))\n",
    "\n",
    "print(f'Test set accuracy: {eval_result}')"
   ]
  },
  {
   "cell_type": "markdown",
   "id": "6fc75276",
   "metadata": {},
   "source": [
    "***Predicting the values***"
   ]
  },
  {
   "cell_type": "code",
   "execution_count": 31,
   "id": "04229113",
   "metadata": {},
   "outputs": [
    {
     "name": "stdout",
     "output_type": "stream",
     "text": [
      "Please type numeric values as prompted.\n",
      "Sepallength: 1.2\n",
      "Sepalwidth: 3.4\n",
      "Petallength: 3.7\n",
      "Petalwidth: 1.2\n",
      "INFO:tensorflow:Calling model_fn.\n",
      "INFO:tensorflow:Done calling model_fn.\n",
      "INFO:tensorflow:Graph was finalized.\n",
      "INFO:tensorflow:Restoring parameters from C:\\Users\\NTech\\AppData\\Local\\Temp\\tmph_ygj2bp\\model.ckpt-5000\n",
      "INFO:tensorflow:Running local_init_op.\n",
      "INFO:tensorflow:Done running local_init_op.\n",
      "Prediction is \"Virginica\" (46.72%)\n"
     ]
    }
   ],
   "source": [
    "def input_fn(features, batch_size=256):\n",
    "    return tf.data.Dataset.from_tensor_slices(dict(features)).batch(batch_size)\n",
    "\n",
    "features = ['Sepallength', 'Sepalwidth', 'Petallength', 'Petalwidth']\n",
    "predict = {}\n",
    "\n",
    "print(\"Please type numeric values as prompted.\")\n",
    "\n",
    "for feature in features:\n",
    "    valid = True\n",
    "    while valid:\n",
    "        val = input(feature + \": \")\n",
    "        if not val.isdigit(): valid=False\n",
    "    predict[feature] = [float(val)]\n",
    "    \n",
    "predictions = classifier.predict(input_fn=lambda: input_fn(predict))\n",
    "\n",
    "for pred_dict in predictions:\n",
    "    class_id = pred_dict['class_ids'][0]\n",
    "    probability = pred_dict['probabilities'][class_id]\n",
    "\n",
    "    \n",
    "    print('Prediction is \"{}\" ({:.2f}%)'.format(species[class_id], 100 * probability))"
   ]
  }
 ],
 "metadata": {
  "kernelspec": {
   "display_name": "Python 3 (ipykernel)",
   "language": "python",
   "name": "python3"
  },
  "language_info": {
   "codemirror_mode": {
    "name": "ipython",
    "version": 3
   },
   "file_extension": ".py",
   "mimetype": "text/x-python",
   "name": "python",
   "nbconvert_exporter": "python",
   "pygments_lexer": "ipython3",
   "version": "3.10.6"
  }
 },
 "nbformat": 4,
 "nbformat_minor": 5
}
