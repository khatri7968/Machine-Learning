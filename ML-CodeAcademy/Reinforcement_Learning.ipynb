{
  "nbformat": 4,
  "nbformat_minor": 0,
  "metadata": {
    "colab": {
      "provenance": [],
      "collapsed_sections": []
    },
    "kernelspec": {
      "name": "python3",
      "display_name": "Python 3"
    },
    "language_info": {
      "name": "python"
    }
  },
  "cells": [
    {
      "cell_type": "markdown",
      "source": [
        "# Reinforcement Learning\n",
        "The next and final topic in this course covers Reinforcement Learning.This technique is different than many of the other machine learning\n",
        "techniques we have seen earlier and has many applications in training agents(an Al)to interact with enviornments like games.Rather than\n",
        "feeding our machine learning model millions of examples we let our model come up with it's own examples by exploring an enviomnemt.The\n",
        "concept is fairly simple. Humans learn by exploring and leaming from mistakes and past experiences so let's have our computer do the same."
      ],
      "metadata": {
        "id": "y-FT3HhgY6Be"
      }
    },
    {
      "cell_type": "markdown",
      "source": [
        "# Terminology\n",
        "Before we dive into explaining reinforcement learning we need to define a few key peices of terminology.\n",
        "Enviornemt In reinforcement learning tasks we have a notion of the enviomment.This is what our agent will explore.An example of an\n",
        "enviornment in the case of training an Al to play say a game of mario would be the level we are training the agent on\n",
        "Agent an agent is an entity that is exploring the enviornment. Our agent will interact and take different actions within the enviornment.In our\n",
        "mario example the mario character within the game would be our agent.\n",
        "State at all times our agent will be in what we call a state.The state simply tells us about the status of the agent.The most common example of\n",
        "a state is the location of the agent within the enviomment. Moving locations would change the agents state.\n",
        "Action any interaction between the agent and enviornment would be considered an action.For example moving to the left or jumping would be\n",
        "an action.An action may or may not change the current state of the agent.In fact the act of doing nothing is actually an action as well!The\n",
        "action of s not pressing a key if we are using our mario example.\n",
        "Reward every action that our agent takes will result in a reward of some magnitude(positive or negative).The goal of our agent will be to\n",
        "maximize it's reward in an enviomment.Sometimes the reward will be clear, for example if an agent performs an action which increases their\n",
        "score in the enviomment we could say they've recieved a positive reward.If the agent were to perform an action which results in them losing\n",
        "score or possibly dying in the enviornment then they would recieve a negative reward.\n",
        "The most important part of reinforcement learning is determing how to reward the agent.After all,the goal of the agent is to maximize it's\n",
        "rewards.This means we should reward the agent appropiatly such that it reaches the desired goal.\n",
        "Q-Learning"
      ],
      "metadata": {
        "id": "z0k7eEZiZXrd"
      }
    },
    {
      "cell_type": "markdown",
      "source": [
        "# Q-Learning\n",
        "Now that we have a vague idea of how reinforcement learning works it's time to talk about a specific technique in reinforcement learning\n",
        "called Q-Learning.\n",
        "**Q-Learning** is a fairly simple yet quite powerful technique in machine learning that involves learning a matrix of action-reward values.This\n",
        "matrix is often reffered to as a Q-Table or Q-Matrix.The matrix is in shape(number of possible states, number of possible actions)where each\n",
        "value at matrix[n,m]represents the agents expected reward given they are in state n and take action m.The Q-learning algorithm defines the\n",
        "way we update the values in the matrix and decide what action to take at each state.The idea is that after a succesful training/learning of this\n",
        "Q-Table/matrix we can determine the action an agent should take in any state by looking at that states row in the matrix and taking the\n",
        "maximium value column as the action.\n",
        "Consider this example.\n",
        "Let's say A1-A4 are the possible actions and we have 3 states represented by each row (state 1 -state 3).\n",
        "\n",
        "A1 A2 A3 A4\n",
        "\n",
        "0 0 10 5\n",
        "\n",
        "5 10 00\n",
        "\n",
        "10 5 0 0\n",
        "\n",
        "\n",
        "If that was our Q-Table/matrix then the following would be the preffered actions in each state.\n",
        "State 1 :A3\n",
        "State 2:A2\n",
        "State 3:A1\n",
        "We can see that this is because the values in each of those columns are the highest for those states"
      ],
      "metadata": {
        "id": "CB20V8dQbuJr"
      }
    },
    {
      "cell_type": "markdown",
      "source": [
        "# Learning the Q-lable\n",
        "So that's pretty simple, right? Now how do we create this table and find those values.Well this is where we will dicuss how\n",
        "the Q-Learning algorithm updates the values in our Q-Table.\n",
        "I'll start by noting that our Q-Table starts of with all 0 values.This is because the agent has yet to learn anything about the\n",
        "enviornment.\n",
        "Our agent learns by exploring the enviornment and observing the outcome/reward from each action it takes in a given\n",
        "state.But how does it know what action to take in each state?There are two ways that our agent can decide on which\n",
        "action to take.\n",
        "\n",
        "1. Randomly picking a valid action\n",
        "\n",
        "2. Using the current Q-Table to find the best action.\n",
        "\n",
        "Near the beginning of our agents learning it will mostly take random actions in order to explore the enviornment and enter\n",
        "many different states.As it starts to explore more of the enviornment it will start to gradually rely more on it's learned\n",
        "values(Q-Table)to take actions.This means that as our agent explores more of the enviornment it will develop a better\n",
        "understanding and start to take\"correct\"or better actions more often.It's important that the agent has a good balance of\n",
        "taking random actions and using learned values to ensure it does get trapped in a local maxima.\n",
        "After each new action our agent wil record the new state (if any)that it has entered and the reward that it recieved from\n",
        "taking that action.These values will be used to update the Q-Table. The agent will stop taking new actions only once a\n",
        "certain time limit is reached or it has acheived the goal or reached the end of the enviornment.\n",
        "\n",
        "**Updating Q-Values**\n",
        "The formula for updating the Q-Table after each action is as follows:\n",
        "\n",
        "| Q[state,action]= Q[state,action] + a * (reward + y* max(Q[newState, :]) — Q[state,action])\n",
        "\n",
        "• a(alpha) stands for the Learning Rate\n",
        "• y(gama) stands for the Discount Factor\n",
        "**Learning Rate a**\n",
        "\n",
        "The learning rate a is a numeric constant that defines how much change is permitted on each QTable update.A high\n",
        "learning rate means that each update will introduce a large change to the current state-action value.A small learning rate\n",
        "means that each update has a more subtle change. Modifying the learning rate will change how the agent explores\n",
        "enviornment and how quickly it determines the final values in the QTable.\n",
        "\n",
        "**Discount Factor y**\n",
        "\n",
        "Discount factor,also know as gamma(y)is used to balance how much focus is put on the current and future reward.A\n",
        "high discount factor means that future rewards will be considered more heavily.\n",
        "\n",
        "To perform updates on this table we will let the agent explore the enviornment for a certain period of time and use each of\n",
        "its actions to make an update. Slowly we should start to notice the agent learning and choosing better actions."
      ],
      "metadata": {
        "id": "wed1zWZrk0vc"
      }
    },
    {
      "cell_type": "markdown",
      "source": [
        "# Q-Learning Example\n",
        "For this example we will use the Q-Learning algorithm to train an agent to navigate a popular enviornment from the link text OpenAl Gym.The Open Al Gym was developed so programmers could practice machine learning using unique enviornments.\n",
        "Intersting fact, Elon Musk is one of the founders of OpenAl!\n",
        "\n",
        "Let's start by looking at what Open Al Gym is."
      ],
      "metadata": {
        "id": "H17hT4zJ8hfP"
      }
    },
    {
      "cell_type": "code",
      "execution_count": 1,
      "metadata": {
        "id": "gkU20n53YBLz"
      },
      "outputs": [],
      "source": [
        "import gym"
      ]
    },
    {
      "cell_type": "markdown",
      "source": [
        "Loading the environment"
      ],
      "metadata": {
        "id": "FoNLZq5k-Bzu"
      }
    },
    {
      "cell_type": "code",
      "source": [
        "env = gym.make(\"FrozenLake-v1\") # we are going to use the frozenlake environment"
      ],
      "metadata": {
        "colab": {
          "base_uri": "https://localhost:8080/"
        },
        "id": "2jfmPnvz9uX5",
        "outputId": "6c1efe5d-acd0-41bc-add9-7d8e109cbd02"
      },
      "execution_count": 3,
      "outputs": [
        {
          "output_type": "stream",
          "name": "stderr",
          "text": [
            "/usr/local/lib/python3.7/dist-packages/gym/core.py:318: DeprecationWarning: \u001b[33mWARN: Initializing wrapper in old step API which returns one bool instead of two. It is recommended to set `new_step_api=True` to use new step API. This will be the default behaviour in future.\u001b[0m\n",
            "  \"Initializing wrapper in old step API which returns one bool instead of two. It is recommended to set `new_step_api=True` to use new step API. This will be the default behaviour in future.\"\n",
            "/usr/local/lib/python3.7/dist-packages/gym/wrappers/step_api_compatibility.py:40: DeprecationWarning: \u001b[33mWARN: Initializing environment in old step API which returns one bool instead of two. It is recommended to set `new_step_api=True` to use new step API. This will be the default behaviour in future.\u001b[0m\n",
            "  \"Initializing environment in old step API which returns one bool instead of two. It is recommended to set `new_step_api=True` to use new step API. This will be the default behaviour in future.\"\n"
          ]
        }
      ]
    },
    {
      "cell_type": "markdown",
      "source": [
        "There are few environments that can be used to interact and get information about the environment."
      ],
      "metadata": {
        "id": "KH62i-_m-SH3"
      }
    },
    {
      "cell_type": "code",
      "source": [
        "print(env.observation_space.n)  #get number of states\n",
        "print(env.action_space.n)  #get number of actions"
      ],
      "metadata": {
        "colab": {
          "base_uri": "https://localhost:8080/"
        },
        "id": "OEFbQIKt-L7d",
        "outputId": "b031f488-8255-426c-833b-b460c38b5201"
      },
      "execution_count": 4,
      "outputs": [
        {
          "output_type": "stream",
          "name": "stdout",
          "text": [
            "16\n",
            "4\n"
          ]
        }
      ]
    },
    {
      "cell_type": "code",
      "source": [
        "env.reset()  #reset environment to default state"
      ],
      "metadata": {
        "colab": {
          "base_uri": "https://localhost:8080/"
        },
        "id": "3F7M6_t_-z55",
        "outputId": "90882e65-08a0-4de8-ddfb-5f1b14190ace"
      },
      "execution_count": 5,
      "outputs": [
        {
          "output_type": "execute_result",
          "data": {
            "text/plain": [
              "0"
            ]
          },
          "metadata": {},
          "execution_count": 5
        }
      ]
    },
    {
      "cell_type": "code",
      "source": [
        "action = env.action_space.sample() # get a random action"
      ],
      "metadata": {
        "id": "ThAofRmH_DcJ"
      },
      "execution_count": 7,
      "outputs": []
    },
    {
      "cell_type": "code",
      "source": [
        "new_state, reward, done, info = env.step(action) # take action, notice it returns information about the action "
      ],
      "metadata": {
        "id": "-IicAjrW_PVj"
      },
      "execution_count": 8,
      "outputs": []
    },
    {
      "cell_type": "code",
      "source": [
        "env.render()  # render the GUI for the environment"
      ],
      "metadata": {
        "id": "8BiEYcrV_zdR"
      },
      "execution_count": null,
      "outputs": []
    },
    {
      "cell_type": "markdown",
      "source": [
        "# Frozen Lake Enviornment\n",
        "Now that we have a basic understanding of how the gym enviornment works it's time to discuss the specific problem we\n",
        "will be solving.\n",
        "The enviornment we loaded above FrozenLake-ve is one of the most simple enviornments in Open Al Gym.The goal of the\n",
        "agent is to navigate a frozen lake and find the Goal without falling through the ice(render the enviornment above to see an example).\n",
        "There are:\n",
        "\n",
        "• 16 states(one for each square)\n",
        "\n",
        "• 4 possible actions(LEFT,RIGHT, DOWN,UP)\n",
        "\n",
        "•.4 different types of blocks(F:frozen,H: hole,S:start,G:goal)\n"
      ],
      "metadata": {
        "id": "w6JmD-_SAkV_"
      }
    },
    {
      "cell_type": "markdown",
      "source": [
        "# Building the Q-Table\n",
        "The first thing we need to do is build an empty Q-Table that we can use to store and update our values"
      ],
      "metadata": {
        "id": "fAosXoY7A7-X"
      }
    },
    {
      "cell_type": "code",
      "source": [
        "import gym\n",
        "import numpy as np\n",
        "import time\n",
        "\n",
        "env = gym.make('FrozenLake-v1')\n",
        "STATES = env.observation_space.n\n",
        "ACTIONS = env.action_space.n"
      ],
      "metadata": {
        "colab": {
          "base_uri": "https://localhost:8080/"
        },
        "id": "E99oGcZFAEvF",
        "outputId": "bd7e4be5-2c47-47b5-d50f-162ac9bf5d1f"
      },
      "execution_count": 10,
      "outputs": [
        {
          "output_type": "stream",
          "name": "stderr",
          "text": [
            "/usr/local/lib/python3.7/dist-packages/gym/core.py:318: DeprecationWarning: \u001b[33mWARN: Initializing wrapper in old step API which returns one bool instead of two. It is recommended to set `new_step_api=True` to use new step API. This will be the default behaviour in future.\u001b[0m\n",
            "  \"Initializing wrapper in old step API which returns one bool instead of two. It is recommended to set `new_step_api=True` to use new step API. This will be the default behaviour in future.\"\n",
            "/usr/local/lib/python3.7/dist-packages/gym/wrappers/step_api_compatibility.py:40: DeprecationWarning: \u001b[33mWARN: Initializing environment in old step API which returns one bool instead of two. It is recommended to set `new_step_api=True` to use new step API. This will be the default behaviour in future.\u001b[0m\n",
            "  \"Initializing environment in old step API which returns one bool instead of two. It is recommended to set `new_step_api=True` to use new step API. This will be the default behaviour in future.\"\n"
          ]
        }
      ]
    },
    {
      "cell_type": "code",
      "source": [
        "Q = np.zeros((STATES, ACTIONS))\n",
        "Q"
      ],
      "metadata": {
        "colab": {
          "base_uri": "https://localhost:8080/"
        },
        "id": "_XhKesLWB2BI",
        "outputId": "a6205574-ea0a-47c8-f5c5-771126b42d0b"
      },
      "execution_count": 11,
      "outputs": [
        {
          "output_type": "execute_result",
          "data": {
            "text/plain": [
              "array([[0., 0., 0., 0.],\n",
              "       [0., 0., 0., 0.],\n",
              "       [0., 0., 0., 0.],\n",
              "       [0., 0., 0., 0.],\n",
              "       [0., 0., 0., 0.],\n",
              "       [0., 0., 0., 0.],\n",
              "       [0., 0., 0., 0.],\n",
              "       [0., 0., 0., 0.],\n",
              "       [0., 0., 0., 0.],\n",
              "       [0., 0., 0., 0.],\n",
              "       [0., 0., 0., 0.],\n",
              "       [0., 0., 0., 0.],\n",
              "       [0., 0., 0., 0.],\n",
              "       [0., 0., 0., 0.],\n",
              "       [0., 0., 0., 0.],\n",
              "       [0., 0., 0., 0.]])"
            ]
          },
          "metadata": {},
          "execution_count": 11
        }
      ]
    },
    {
      "cell_type": "markdown",
      "source": [
        "# Constants\n",
        "As we discussed we need to define some constants that will be used to update our Q-Table and tell our agent when to stop training."
      ],
      "metadata": {
        "id": "FwBV64qZCMEw"
      }
    },
    {
      "cell_type": "code",
      "source": [
        "EPISODES = 2000  # how many time to run the enviornment from the begnning \n",
        "MAX_STEPS = 100  # max number of steps allowed for each run of the enviornment\n",
        "\n",
        "LEARNING_RATE = 0.81 # learning rate\n",
        "GAMA = 0.96"
      ],
      "metadata": {
        "id": "zR3lQcsmCJN8"
      },
      "execution_count": 12,
      "outputs": []
    },
    {
      "cell_type": "markdown",
      "source": [
        "# Picking an Action\n",
        "Remember that we can pick an action using one of two methods:\n",
        "\n",
        "1. Randomly picking a valid action\n",
        "\n",
        "2. Using the current Q-Table to find the best action.\n",
        "\n",
        "Here we will define a new value&that will tell us the probabillity of selecting a random action.This value will start off very\n",
        "high and slowly decrease as the agent learns more about the enviornment."
      ],
      "metadata": {
        "id": "pZTKhIpMDIGj"
      }
    },
    {
      "cell_type": "code",
      "source": [
        "epsilon = 0.9  # start with 90% chance of picking random action\n",
        "\n",
        "# code to paick the action\n",
        "if np.random.uniform(0, 1) < epsilon: # we will check if a randomaly selected value is less than epsilon.\n",
        "  action = env.action_space.sample()  # take random action\n",
        "else:\n",
        "  action = np.argmax(Q[state, :]) # use Q to pick best action basef on current values"
      ],
      "metadata": {
        "id": "hPB_OovODNie"
      },
      "execution_count": 13,
      "outputs": []
    },
    {
      "cell_type": "markdown",
      "source": [
        "# Updating the Q Values\n",
        "The code below implements the formula discussed above."
      ],
      "metadata": {
        "id": "J3imkmJ6E0dX"
      }
    },
    {
      "cell_type": "code",
      "source": [
        "Q[state, action] = Q[state, action] + LEARNING_RATE * (reward + GAMA * np.max(Q[new_state, :]) - Q[state, action])"
      ],
      "metadata": {
        "id": "aX15E48KLixH"
      },
      "execution_count": 20,
      "outputs": []
    },
    {
      "cell_type": "code",
      "source": [
        "RENDER = False\n",
        "rewards =[]\n",
        "for episode in range(EPISODES):\n",
        "  state= env.reset()\n",
        "  for _ in range(MAX_STEPS):\n",
        "    if RENDER:\n",
        "      env.render()\n",
        "      \n",
        "    if np.random.uniform(0, 1) < epsilon:\n",
        "      action =  env.action_space.sample()\n",
        "      \n",
        "    else:\n",
        "      action = np.argmax(Q[state, :])\n",
        "\n",
        "    next_state, reward, done, _ = env.step(action)\n",
        "\n",
        "    Q[state, action] = Q[state, action] + LEARNING_RATE * (reward + GAMA * np.max(Q[next_state, :]) - Q[state, action])\n",
        "\n",
        "    state = next_state \n",
        "\n",
        "    if done:\n",
        "      rewards.append(reward)\n",
        "      epsilon -= 0.001 \n",
        "      break # reached the goal\n",
        "print(Q)\n",
        "print(f\"Average reward: {sum(rewards)/len(rewards)}:\")\n"
      ],
      "metadata": {
        "colab": {
          "base_uri": "https://localhost:8080/"
        },
        "id": "ErTYKmldFvBz",
        "outputId": "eb15c471-ab91-4a34-fc74-9e49efafd8bb"
      },
      "execution_count": 25,
      "outputs": [
        {
          "output_type": "stream",
          "name": "stdout",
          "text": [
            "[[3.32623507e-01 3.14028730e-02 3.22201744e-02 3.07174597e-02]\n",
            " [9.28029934e-03 1.52659823e-03 4.83669993e-03 2.20257203e-01]\n",
            " [9.01957475e-03 1.95438603e-02 1.06518197e-02 2.85187054e-01]\n",
            " [3.94314791e-04 5.52361364e-03 1.23549731e-02 8.18089925e-02]\n",
            " [4.57310621e-01 1.53836659e-03 2.10724044e-02 7.28121943e-03]\n",
            " [0.00000000e+00 0.00000000e+00 0.00000000e+00 0.00000000e+00]\n",
            " [1.27879495e-04 1.50802795e-04 1.37010712e-01 0.00000000e+00]\n",
            " [0.00000000e+00 0.00000000e+00 0.00000000e+00 0.00000000e+00]\n",
            " [8.32491520e-03 2.19093552e-02 2.05746646e-02 3.33647331e-01]\n",
            " [1.35290338e-02 5.04460377e-01 1.91729654e-02 7.64147007e-03]\n",
            " [4.79624225e-02 1.81139684e-03 1.48528663e-03 1.02261984e-03]\n",
            " [0.00000000e+00 0.00000000e+00 0.00000000e+00 0.00000000e+00]\n",
            " [0.00000000e+00 0.00000000e+00 0.00000000e+00 0.00000000e+00]\n",
            " [3.88730607e-02 0.00000000e+00 8.43715535e-01 1.59933200e-02]\n",
            " [8.70049577e-02 9.76501459e-01 1.06298834e-01 1.03159390e-01]\n",
            " [0.00000000e+00 0.00000000e+00 0.00000000e+00 0.00000000e+00]]\n",
            "Average reward: 0.4135:\n"
          ]
        }
      ]
    }
  ]
}