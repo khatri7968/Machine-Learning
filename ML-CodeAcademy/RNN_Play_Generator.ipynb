{
  "cells": [
    {
      "cell_type": "markdown",
      "id": "26736a44",
      "metadata": {
        "id": "26736a44"
      },
      "source": [
        "# RNN PLAY GENERATOR"
      ]
    },
    {
      "cell_type": "code",
      "execution_count": 2,
      "id": "77897a3d",
      "metadata": {
        "colab": {
          "base_uri": "https://localhost:8080/"
        },
        "id": "77897a3d",
        "outputId": "9f1332b3-054d-46e2-d09d-605fd8b6d14d"
      },
      "outputs": [
        {
          "output_type": "stream",
          "name": "stdout",
          "text": [
            "Colab only includes TensorFlow 2.x; %tensorflow_version has no effect.\n"
          ]
        }
      ],
      "source": [
        "%tensorflow_version 2.x\n",
        "from keras.preprocessing import sequence\n",
        "import keras\n",
        "import tensorflow as tf\n",
        "import os\n",
        "import numpy as np"
      ]
    },
    {
      "cell_type": "markdown",
      "id": "f8296ef1",
      "metadata": {
        "id": "f8296ef1"
      },
      "source": [
        "***Dataset***"
      ]
    },
    {
      "cell_type": "code",
      "execution_count": 3,
      "id": "80c7fd69",
      "metadata": {
        "colab": {
          "base_uri": "https://localhost:8080/"
        },
        "id": "80c7fd69",
        "outputId": "f8a96251-26b6-484d-a139-e97869885bf2"
      },
      "outputs": [
        {
          "output_type": "stream",
          "name": "stdout",
          "text": [
            "Downloading data from https://storage.googleapis.com/download.tensorflow.org/data/shakespeare.txt\n",
            "1122304/1115394 [==============================] - 0s 0us/step\n",
            "1130496/1115394 [==============================] - 0s 0us/step\n"
          ]
        }
      ],
      "source": [
        "path_to_file = tf.keras.utils.get_file('shakespare.txt', 'https://storage.googleapis.com/download.tensorflow.org/data/shakespeare.txt')"
      ]
    },
    {
      "cell_type": "markdown",
      "id": "fd5b7620",
      "metadata": {
        "id": "fd5b7620"
      },
      "source": [
        "***Loading your own data***"
      ]
    },
    {
      "cell_type": "code",
      "execution_count": 4,
      "id": "83982526",
      "metadata": {
        "scrolled": true,
        "id": "83982526",
        "colab": {
          "resources": {
            "http://localhost:8080/nbextensions/google.colab/files.js": {
              "data": "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",
              "ok": true,
              "headers": [
                [
                  "content-type",
                  "application/javascript"
                ]
              ],
              "status": 200,
              "status_text": ""
            }
          },
          "base_uri": "https://localhost:8080/",
          "height": 212
        },
        "outputId": "31cdf035-6264-43e7-fa6a-4279cf7666c1"
      },
      "outputs": [
        {
          "output_type": "display_data",
          "data": {
            "text/plain": [
              "<IPython.core.display.HTML object>"
            ],
            "text/html": [
              "\n",
              "     <input type=\"file\" id=\"files-bb4285ab-06ad-4d89-bf8b-271f99807471\" name=\"files[]\" multiple disabled\n",
              "        style=\"border:none\" />\n",
              "     <output id=\"result-bb4285ab-06ad-4d89-bf8b-271f99807471\">\n",
              "      Upload widget is only available when the cell has been executed in the\n",
              "      current browser session. Please rerun this cell to enable.\n",
              "      </output>\n",
              "      <script src=\"/nbextensions/google.colab/files.js\"></script> "
            ]
          },
          "metadata": {}
        },
        {
          "output_type": "error",
          "ename": "IndexError",
          "evalue": "ignored",
          "traceback": [
            "\u001b[0;31m---------------------------------------------------------------------------\u001b[0m",
            "\u001b[0;31mIndexError\u001b[0m                                Traceback (most recent call last)",
            "\u001b[0;32m<ipython-input-4-f0cf22c78c77>\u001b[0m in \u001b[0;36m<module>\u001b[0;34m\u001b[0m\n\u001b[1;32m      1\u001b[0m \u001b[0;32mfrom\u001b[0m \u001b[0mgoogle\u001b[0m\u001b[0;34m.\u001b[0m\u001b[0mcolab\u001b[0m \u001b[0;32mimport\u001b[0m \u001b[0mfiles\u001b[0m\u001b[0;34m\u001b[0m\u001b[0;34m\u001b[0m\u001b[0m\n\u001b[0;32m----> 2\u001b[0;31m \u001b[0mpath_to_file\u001b[0m \u001b[0;34m=\u001b[0m \u001b[0mlist\u001b[0m\u001b[0;34m(\u001b[0m\u001b[0mfiles\u001b[0m\u001b[0;34m.\u001b[0m\u001b[0mupload\u001b[0m\u001b[0;34m(\u001b[0m\u001b[0;34m)\u001b[0m\u001b[0;34m.\u001b[0m\u001b[0mkeys\u001b[0m\u001b[0;34m(\u001b[0m\u001b[0;34m)\u001b[0m\u001b[0;34m)\u001b[0m\u001b[0;34m[\u001b[0m\u001b[0;36m0\u001b[0m\u001b[0;34m]\u001b[0m\u001b[0;34m\u001b[0m\u001b[0;34m\u001b[0m\u001b[0m\n\u001b[0m",
            "\u001b[0;31mIndexError\u001b[0m: list index out of range"
          ]
        }
      ],
      "source": [
        "from google.colab import files\n",
        "path_to_file = list(files.upload().keys())[0]"
      ]
    },
    {
      "cell_type": "markdown",
      "source": [
        "# Read contents of file\n",
        "Let's look at the contents of file"
      ],
      "metadata": {
        "id": "PP-Y_inIVYtd"
      },
      "id": "PP-Y_inIVYtd"
    },
    {
      "cell_type": "code",
      "execution_count": 5,
      "id": "f56e50db",
      "metadata": {
        "colab": {
          "base_uri": "https://localhost:8080/"
        },
        "id": "f56e50db",
        "outputId": "cc7ea3d7-0ad2-4e61-ec5c-e22f1f39302f"
      },
      "outputs": [
        {
          "output_type": "stream",
          "name": "stdout",
          "text": [
            "length of text: 1115394 characters\n"
          ]
        }
      ],
      "source": [
        "# Read and then decode for py2 compat\n",
        "text = open(path_to_file, 'rb').read().decode(encoding='utf-8')\n",
        "\n",
        "# length of the text is the number of characters in it\n",
        "print('length of text: {} characters'.format(len(text)))"
      ]
    },
    {
      "cell_type": "code",
      "source": [
        "print(text[:250])"
      ],
      "metadata": {
        "colab": {
          "base_uri": "https://localhost:8080/"
        },
        "id": "EwJKG-SYakDy",
        "outputId": "b1a5d8e6-0136-47d1-deed-1a8445750565"
      },
      "id": "EwJKG-SYakDy",
      "execution_count": 6,
      "outputs": [
        {
          "output_type": "stream",
          "name": "stdout",
          "text": [
            "First Citizen:\n",
            "Before we proceed any further, hear me speak.\n",
            "\n",
            "All:\n",
            "Speak, speak.\n",
            "\n",
            "First Citizen:\n",
            "You are all resolved rather to die than to famish?\n",
            "\n",
            "All:\n",
            "Resolved. resolved.\n",
            "\n",
            "First Citizen:\n",
            "First, you know Caius Marcius is chief enemy to the people.\n",
            "\n"
          ]
        }
      ]
    },
    {
      "cell_type": "markdown",
      "source": [
        "# Encoding\n",
        "We will encode the each unique character"
      ],
      "metadata": {
        "id": "OPohScJSa1Er"
      },
      "id": "OPohScJSa1Er"
    },
    {
      "cell_type": "code",
      "source": [
        "vocab = sorted(set(text))\n",
        "# Creating a mapping from unique characters to indices\n",
        "char2idx = {u:i for i, u in enumerate(vocab)}\n",
        "idx2char = np.array(vocab)\n",
        "def text_to_int(text): \n",
        "  return np.array([char2idx[c] for c in text])\n",
        "\n",
        "text_as_int = text_to_int(text)\n"
      ],
      "metadata": {
        "id": "MbbEMgJ3apjP"
      },
      "id": "MbbEMgJ3apjP",
      "execution_count": 7,
      "outputs": []
    },
    {
      "cell_type": "code",
      "source": [
        "#lets look at how part of our text is encoded\n",
        "print(\"Text:\", text[:13])\n",
        "print(\"Encoded\", text_to_int(text[:13]))"
      ],
      "metadata": {
        "colab": {
          "base_uri": "https://localhost:8080/"
        },
        "id": "ncwBy9Lxch35",
        "outputId": "2dc775ed-e5ac-4ef8-e282-eb3d6cee1a71"
      },
      "id": "ncwBy9Lxch35",
      "execution_count": 8,
      "outputs": [
        {
          "output_type": "stream",
          "name": "stdout",
          "text": [
            "Text: First Citizen\n",
            "Encoded [18 47 56 57 58  1 15 47 58 47 64 43 52]\n"
          ]
        }
      ]
    },
    {
      "cell_type": "markdown",
      "source": [
        "Here we will make a function which converts numeric to text"
      ],
      "metadata": {
        "id": "HmmCSc8tfqin"
      },
      "id": "HmmCSc8tfqin"
    },
    {
      "cell_type": "code",
      "source": [
        "def int_to_text(ints):\n",
        "  try:\n",
        "    ints = ints.numpy()\n",
        "  except:\n",
        "    pass\n",
        "  return '' .join(idx2char[ints])\n",
        "print(int_to_text(text_as_int[:13]))"
      ],
      "metadata": {
        "colab": {
          "base_uri": "https://localhost:8080/"
        },
        "id": "H23qb_PGfAai",
        "outputId": "67410132-7bc7-4279-d8b6-ec44fd51a53e"
      },
      "id": "H23qb_PGfAai",
      "execution_count": 9,
      "outputs": [
        {
          "output_type": "stream",
          "name": "stdout",
          "text": [
            "First Citizen\n"
          ]
        }
      ]
    },
    {
      "cell_type": "markdown",
      "source": [
        "# Creating Training Examples\n",
        "\n",
        "input: Hell | output: ello"
      ],
      "metadata": {
        "id": "pPxey6VNotv0"
      },
      "id": "pPxey6VNotv0"
    },
    {
      "cell_type": "code",
      "source": [
        "seq_length = 100 # length of sequence for a training example\n",
        "examples_per_epoch = len(text)//(seq_length+1)\n",
        "\n",
        "# Create training examples / targets\n",
        "char_dataset = tf.data.Dataset.from_tensor_slices(text_as_int)"
      ],
      "metadata": {
        "id": "0akJ9AI9merI"
      },
      "id": "0akJ9AI9merI",
      "execution_count": 10,
      "outputs": []
    },
    {
      "cell_type": "markdown",
      "source": [
        "Next we can use the batch method to turn this stream of characters into batches of desired length"
      ],
      "metadata": {
        "id": "vwHo4xiiqh6r"
      },
      "id": "vwHo4xiiqh6r"
    },
    {
      "cell_type": "code",
      "source": [
        "sequences = char_dataset.batch(seq_length+1, drop_remainder = True)"
      ],
      "metadata": {
        "id": "mgHr9HzMqHOk"
      },
      "id": "mgHr9HzMqHOk",
      "execution_count": 11,
      "outputs": []
    },
    {
      "cell_type": "markdown",
      "source": [
        "Now we need to use these sequences of length 101 and split them into input and output"
      ],
      "metadata": {
        "id": "BoY2YUo3rKtI"
      },
      "id": "BoY2YUo3rKtI"
    },
    {
      "cell_type": "code",
      "source": [
        "def split_input_target(chunk):\n",
        "  input_text = chunk[:-1] #hell\n",
        "  target_text = chunk[1:] #ello\n",
        "  return input_text, target_text #hell, ello\n",
        "\n",
        "dataset = sequences.map(split_input_target) # we use map to apply the above function to every entery"
      ],
      "metadata": {
        "id": "hmGHKKxQqdNw"
      },
      "id": "hmGHKKxQqdNw",
      "execution_count": 12,
      "outputs": []
    },
    {
      "cell_type": "code",
      "source": [
        "for x, y in dataset.take(2):\n",
        "  print(\"\\n\\nEXAMPLE\\n\")\n",
        "  print(\"INPUT\")\n",
        "  print(int_to_text(x))\n",
        "  print(\"\\nOUTPUT\")\n",
        "  print(int_to_text(y))"
      ],
      "metadata": {
        "colab": {
          "base_uri": "https://localhost:8080/"
        },
        "id": "SAT-3zRlQlCC",
        "outputId": "b2915073-bec8-475d-b1b1-bd83ccee6872"
      },
      "id": "SAT-3zRlQlCC",
      "execution_count": 13,
      "outputs": [
        {
          "output_type": "stream",
          "name": "stdout",
          "text": [
            "\n",
            "\n",
            "EXAMPLE\n",
            "\n",
            "INPUT\n",
            "First Citizen:\n",
            "Before we proceed any further, hear me speak.\n",
            "\n",
            "All:\n",
            "Speak, speak.\n",
            "\n",
            "First Citizen:\n",
            "You\n",
            "\n",
            "OUTPUT\n",
            "irst Citizen:\n",
            "Before we proceed any further, hear me speak.\n",
            "\n",
            "All:\n",
            "Speak, speak.\n",
            "\n",
            "First Citizen:\n",
            "You \n",
            "\n",
            "\n",
            "EXAMPLE\n",
            "\n",
            "INPUT\n",
            "are all resolved rather to die than to famish?\n",
            "\n",
            "All:\n",
            "Resolved. resolved.\n",
            "\n",
            "First Citizen:\n",
            "First, you \n",
            "\n",
            "OUTPUT\n",
            "re all resolved rather to die than to famish?\n",
            "\n",
            "All:\n",
            "Resolved. resolved.\n",
            "\n",
            "First Citizen:\n",
            "First, you k\n"
          ]
        }
      ]
    },
    {
      "cell_type": "code",
      "source": [
        "BATCH_SIZE = 64\n",
        "VOCAB_SIZE = len(vocab) # vocab is number of unique characters\n",
        "EMBEDDING_DIM = 256\n",
        "RNN_UNITS = 1024\n",
        "\n",
        "# Buffer size to shuffle the dataset\n",
        "# (TF data is designed to work with possibly infinite sequences,\n",
        "# so it doesn't attempt to shuffle the entire sequence in memory. Instead,\n",
        "# it maintains a buffer in which it shuffles elements).\n",
        "\n",
        "\n",
        "BUFFER_SIZE = 10000\n",
        "\n",
        "data = dataset.shuffle(BUFFER_SIZE).batch(BATCH_SIZE, drop_remainder=True)"
      ],
      "metadata": {
        "id": "ycvydpZ5SX4B"
      },
      "id": "ycvydpZ5SX4B",
      "execution_count": 14,
      "outputs": []
    },
    {
      "cell_type": "markdown",
      "source": [
        "# Building the Model\n",
        "Now it is time to build the model.We will use an embedding layer a LSTM and one dense layer that contains a node for each unique character\n",
        "in our training data.The dense layer will give us a probability distribution over all nodes."
      ],
      "metadata": {
        "id": "ETu5QQBWUJrf"
      },
      "id": "ETu5QQBWUJrf"
    },
    {
      "cell_type": "code",
      "source": [
        "def build_model(vocab_size, embedding_dim, rnn_uints, batch_size):\n",
        "  model = tf.keras.Sequential([\n",
        "      tf.keras.layers.Embedding(vocab_size, embedding_dim,\n",
        "                                batch_input_shape = [batch_size, None]),\n",
        "      tf.keras.layers.LSTM(rnn_uints,\n",
        "                           return_sequences = True,\n",
        "                           stateful = True,\n",
        "                           recurrent_initializer=\"glorot_uniform\"),\n",
        "      tf.keras.layers.Dense(vocab_size)\n",
        "  ])\n",
        "  return model\n",
        "\n",
        "model = build_model(VOCAB_SIZE, EMBEDDING_DIM, RNN_UNITS, BATCH_SIZE)\n",
        "model.summary()"
      ],
      "metadata": {
        "colab": {
          "base_uri": "https://localhost:8080/"
        },
        "id": "g-X5ZbPjUOeS",
        "outputId": "635af095-abda-4203-93df-a13282b5f08a"
      },
      "id": "g-X5ZbPjUOeS",
      "execution_count": 15,
      "outputs": [
        {
          "output_type": "stream",
          "name": "stdout",
          "text": [
            "Model: \"sequential\"\n",
            "_________________________________________________________________\n",
            " Layer (type)                Output Shape              Param #   \n",
            "=================================================================\n",
            " embedding (Embedding)       (64, None, 256)           16640     \n",
            "                                                                 \n",
            " lstm (LSTM)                 (64, None, 1024)          5246976   \n",
            "                                                                 \n",
            " dense (Dense)               (64, None, 65)            66625     \n",
            "                                                                 \n",
            "=================================================================\n",
            "Total params: 5,330,241\n",
            "Trainable params: 5,330,241\n",
            "Non-trainable params: 0\n",
            "_________________________________________________________________\n"
          ]
        }
      ]
    },
    {
      "cell_type": "markdown",
      "source": [
        "# Creating a Loss Function\n",
        "Now we are actually going to create our own loss function for this problem.This is because our model will output a (64,sequence_length,65)\n",
        "shaped tensor that represents the probability distribution of each character at each timestep for every sequence in the batch.\n",
        "However,before we do that let's have a look at a sample input and the output from our untrained model. This is so we can understand what the\n",
        "model is actually giving us."
      ],
      "metadata": {
        "id": "09ciJL1JYCL5"
      },
      "id": "09ciJL1JYCL5"
    },
    {
      "cell_type": "code",
      "source": [
        "for input_example_batch, target_example_batch in data.take(1):\n",
        "  example_batch_predictions = model(input_example_batch) # ask our model for aprediction on our first batch of training dataset\n",
        "  print(example_batch_predictions.shape, \"# (batch_size, sequence_length, vocab_size)\") # print out the output shape"
      ],
      "metadata": {
        "id": "xjWTVE-tW2jZ"
      },
      "id": "xjWTVE-tW2jZ",
      "execution_count": null,
      "outputs": []
    },
    {
      "cell_type": "code",
      "source": [
        "# We can see that the prdicition id an array of 64 arrays, one for each entry in batch\n",
        "print(len(example_batch_predictions))\n",
        "print(example_batch_predictions)"
      ],
      "metadata": {
        "colab": {
          "base_uri": "https://localhost:8080/"
        },
        "id": "oG9ykTISanJe",
        "outputId": "011e4a34-df56-417d-ae0c-ab668c50de4a"
      },
      "id": "oG9ykTISanJe",
      "execution_count": 18,
      "outputs": [
        {
          "output_type": "stream",
          "name": "stdout",
          "text": [
            "64\n",
            "tf.Tensor(\n",
            "[[[ 3.34185339e-03 -2.02148920e-03 -3.10661737e-04 ... -4.31288080e-03\n",
            "   -7.68235233e-03 -7.26199569e-03]\n",
            "  [-1.08446670e-03 -5.53868758e-03 -5.54007944e-03 ... -8.31630453e-03\n",
            "   -6.13982044e-03 -3.93472798e-03]\n",
            "  [-2.06763670e-03 -8.17733537e-03 -3.53134773e-03 ... -3.69916158e-03\n",
            "   -5.34433825e-03  3.54399579e-03]\n",
            "  ...\n",
            "  [ 7.75567302e-03 -8.40554014e-04  4.37017111e-03 ...  4.85200481e-03\n",
            "   -1.81558030e-03 -6.78229751e-03]\n",
            "  [ 6.54204283e-03 -1.86844170e-03  1.02391671e-02 ...  2.31172051e-03\n",
            "   -5.00449957e-03 -1.09308343e-02]\n",
            "  [ 1.30025297e-03 -7.00790342e-03  2.45270412e-03 ... -4.10414580e-03\n",
            "   -4.76972573e-03 -5.86616574e-03]]\n",
            "\n",
            " [[ 5.42269927e-03 -3.03143589e-03  1.14854169e-03 ...  8.26217979e-03\n",
            "   -5.01004793e-03 -4.94214473e-03]\n",
            "  [ 9.17511433e-03  4.69616335e-03  2.81470455e-03 ...  7.63871148e-03\n",
            "   -4.56173113e-03 -6.84557110e-03]\n",
            "  [ 1.87530788e-03 -1.32079143e-03 -4.66363272e-03 ...  9.98481177e-04\n",
            "   -5.68996836e-03 -4.34946269e-03]\n",
            "  ...\n",
            "  [ 4.48462134e-03  1.50121143e-03  3.00537911e-03 ... -2.48884503e-03\n",
            "   -1.13963140e-02 -2.29683402e-03]\n",
            "  [-4.05334868e-05 -1.76908448e-03 -3.77601199e-03 ... -7.17547908e-03\n",
            "   -1.07296817e-02 -4.53858636e-04]\n",
            "  [ 8.00712965e-04  1.51690515e-03 -4.85684536e-03 ... -5.50977746e-03\n",
            "   -1.14434334e-02 -5.72284963e-03]]\n",
            "\n",
            " [[ 6.04305230e-03 -3.49754887e-03  3.23607121e-03 ...  4.02128324e-03\n",
            "   -9.98754986e-03 -2.35878746e-03]\n",
            "  [ 2.46542692e-03 -5.57100866e-03  4.38371580e-03 ...  9.83998924e-03\n",
            "   -9.34754126e-03 -5.84687945e-03]\n",
            "  [ 6.32699952e-03 -2.13576807e-03  8.64760298e-03 ...  1.25554437e-02\n",
            "   -1.16390204e-02 -6.45831740e-03]\n",
            "  ...\n",
            "  [ 8.62909202e-03  4.54406906e-03  6.77100522e-03 ... -5.83686680e-03\n",
            "   -6.97808946e-03 -1.21838627e-02]\n",
            "  [ 2.29631318e-03  9.42064333e-04  6.24226965e-03 ... -5.26852626e-03\n",
            "   -1.40081649e-03 -7.40817934e-03]\n",
            "  [ 3.40412650e-03  9.93984053e-04  2.15246179e-03 ... -3.64527735e-03\n",
            "    6.50851615e-03 -1.14288088e-02]]\n",
            "\n",
            " ...\n",
            "\n",
            " [[ 5.01588639e-03 -2.53605610e-03 -2.90264655e-03 ... -3.09778773e-03\n",
            "   -1.39152235e-03 -2.26687361e-03]\n",
            "  [-1.55907962e-03 -1.10959518e-03 -7.35354703e-03 ... -4.67355456e-03\n",
            "   -7.51113519e-04  1.53013505e-03]\n",
            "  [-6.17923588e-03 -4.96152788e-04 -1.02351075e-02 ... -6.14010077e-03\n",
            "   -7.85182230e-04  4.76073567e-03]\n",
            "  ...\n",
            "  [ 2.15533050e-03 -6.47813361e-03  8.14134022e-04 ...  3.60261928e-03\n",
            "    1.20600546e-03  2.60344869e-03]\n",
            "  [ 2.31697131e-03 -4.66082990e-03  5.94200753e-03 ...  1.21113332e-03\n",
            "   -2.41779722e-03 -3.26573872e-03]\n",
            "  [ 6.20540371e-03 -7.44556868e-03  4.99884179e-03 ... -4.46940027e-03\n",
            "   -3.80619476e-03 -9.59376339e-04]]\n",
            "\n",
            " [[ 3.10587464e-03 -4.96814027e-05  4.35924809e-03 ...  7.34606851e-03\n",
            "   -3.51558486e-03 -7.38977920e-03]\n",
            "  [-4.20997106e-03  1.97901437e-03  2.12788256e-03 ...  6.61165919e-03\n",
            "   -4.38688323e-03 -8.56758282e-03]\n",
            "  [-2.45385058e-03  3.24714370e-03  7.58427707e-03 ...  1.04905507e-02\n",
            "   -8.71820189e-03 -5.98967355e-03]\n",
            "  ...\n",
            "  [ 4.18957463e-03  5.93748456e-03  2.51229131e-03 ...  4.71768342e-03\n",
            "   -1.08912345e-02 -3.17784701e-03]\n",
            "  [ 4.08535497e-03  3.12452018e-03 -1.29464094e-03 ...  4.60205134e-03\n",
            "   -3.58282751e-03 -2.50141835e-03]\n",
            "  [-1.89698988e-03 -2.93111755e-03 -6.24726061e-03 ... -1.27528037e-03\n",
            "   -4.31403983e-03 -1.04470458e-03]]\n",
            "\n",
            " [[ 2.51130527e-03 -8.14674329e-03 -2.43721623e-03 ... -5.58721973e-03\n",
            "   -1.04882382e-02 -7.57006370e-03]\n",
            "  [ 4.21641255e-03 -4.29317355e-03 -2.98722903e-03 ... -8.44995119e-03\n",
            "   -8.38114135e-03 -9.72378068e-03]\n",
            "  [ 5.28030982e-03 -1.80752249e-03  1.76652218e-03 ... -2.42898054e-03\n",
            "   -4.91655432e-03 -7.97788240e-03]\n",
            "  ...\n",
            "  [ 5.17225545e-03 -5.02207037e-03  2.39904458e-03 ...  8.61052703e-03\n",
            "   -4.34842706e-03  5.96868689e-04]\n",
            "  [ 4.59857518e-03 -5.05630579e-03  6.97419699e-03 ...  4.34501981e-03\n",
            "   -8.23042821e-03 -4.38519241e-03]\n",
            "  [ 9.77323577e-03 -1.70384359e-03  1.15143154e-02 ...  5.42994030e-03\n",
            "   -6.34588208e-03 -5.75518748e-03]]], shape=(64, 100, 65), dtype=float32)\n"
          ]
        }
      ]
    },
    {
      "cell_type": "code",
      "source": [
        "# lets examine one prediction\n",
        "pred = example_batch_predictions[0]\n",
        "print(len(pred))\n",
        "print(pred)\n",
        "# norice this is a 2d array of length 100, where each interior array is the prediction for the next character at each time step"
      ],
      "metadata": {
        "colab": {
          "base_uri": "https://localhost:8080/"
        },
        "id": "EA1TQFfLbBir",
        "outputId": "50cb1768-4a79-4eb1-8271-1d7613db90f7"
      },
      "id": "EA1TQFfLbBir",
      "execution_count": 19,
      "outputs": [
        {
          "output_type": "stream",
          "name": "stdout",
          "text": [
            "100\n",
            "tf.Tensor(\n",
            "[[ 0.00334185 -0.00202149 -0.00031066 ... -0.00431288 -0.00768235\n",
            "  -0.007262  ]\n",
            " [-0.00108447 -0.00553869 -0.00554008 ... -0.0083163  -0.00613982\n",
            "  -0.00393473]\n",
            " [-0.00206764 -0.00817734 -0.00353135 ... -0.00369916 -0.00534434\n",
            "   0.003544  ]\n",
            " ...\n",
            " [ 0.00775567 -0.00084055  0.00437017 ...  0.004852   -0.00181558\n",
            "  -0.0067823 ]\n",
            " [ 0.00654204 -0.00186844  0.01023917 ...  0.00231172 -0.0050045\n",
            "  -0.01093083]\n",
            " [ 0.00130025 -0.0070079   0.0024527  ... -0.00410415 -0.00476973\n",
            "  -0.00586617]], shape=(100, 65), dtype=float32)\n"
          ]
        }
      ]
    },
    {
      "cell_type": "code",
      "source": [
        "# and finally we will look at prediction at hte first timestep\n",
        "time_pred = pred[0]\n",
        "print(len(time_pred))\n",
        "print(time_pred)\n",
        "# and of course its 65 values representing the probability of each character occuring next"
      ],
      "metadata": {
        "colab": {
          "base_uri": "https://localhost:8080/"
        },
        "id": "JjPGg4xCcGbK",
        "outputId": "b62f5dbb-141e-4fbe-b721-0f22ae1dd7fa"
      },
      "id": "JjPGg4xCcGbK",
      "execution_count": 20,
      "outputs": [
        {
          "output_type": "stream",
          "name": "stdout",
          "text": [
            "65\n",
            "tf.Tensor(\n",
            "[ 3.3418534e-03 -2.0214892e-03 -3.1066174e-04  7.2875815e-03\n",
            " -5.1059709e-03  7.1285553e-03  4.2333649e-03  1.1268966e-03\n",
            " -8.5847927e-03 -1.0133115e-02 -4.8522735e-03 -3.4773601e-03\n",
            " -9.2468364e-03 -1.1025535e-02  9.2735235e-03  2.6395719e-03\n",
            "  6.8964418e-03  9.5092263e-03 -5.6459457e-03 -2.0740964e-03\n",
            " -9.5017962e-03  1.1426643e-03  1.0840213e-02 -4.6393443e-03\n",
            " -3.7423589e-03  1.3944695e-02 -6.3461517e-03  1.8132052e-03\n",
            "  3.2960984e-04 -4.9541215e-03 -6.9212983e-03 -7.2124312e-03\n",
            "  1.7482671e-03  1.6848044e-04  6.6290647e-03  3.7664408e-03\n",
            "  1.5919362e-03 -6.6288514e-05 -1.3196230e-02 -4.6210438e-03\n",
            " -1.5082979e-04 -1.2378690e-02 -1.4974058e-03 -2.9404084e-03\n",
            "  4.2894180e-03  5.1829764e-03 -9.2938272e-03 -1.6291628e-02\n",
            "  1.0023757e-02 -3.9267065e-03 -6.2557557e-03 -5.8042491e-04\n",
            " -1.9532986e-02  8.5294815e-03 -5.2936524e-03 -4.4688843e-03\n",
            "  1.5542865e-03 -7.1273400e-03 -9.4855335e-03 -3.5324655e-03\n",
            " -7.5431401e-03  3.6858378e-03 -4.3128808e-03 -7.6823523e-03\n",
            " -7.2619957e-03], shape=(65,), dtype=float32)\n"
          ]
        }
      ]
    },
    {
      "cell_type": "code",
      "source": [
        "# If we want to determine the predicted character we need to sample the output distribution\n",
        "sampled_indices = tf.random.categorical(pred, num_samples=1)\n",
        "\n",
        "# #now we can reshape that array and convert all the integers to numbers to see the actual characters\n",
        "sampled_indices = np.reshape(sampled_indices, (1, -1))[0]\n",
        "predicted_chars = int_to_text(sampled_indices)\n",
        "predicted_chars # and this is what the model predicted for training sequence 1"
      ],
      "metadata": {
        "colab": {
          "base_uri": "https://localhost:8080/",
          "height": 55
        },
        "id": "zt34G7p2dPnP",
        "outputId": "411e65e8-da22-475d-a8aa-4a9e3692f8d1"
      },
      "id": "zt34G7p2dPnP",
      "execution_count": 21,
      "outputs": [
        {
          "output_type": "execute_result",
          "data": {
            "text/plain": [
              "\"Pdb&kG&O.w VQSbvpAKeu\\n?,K!Nna:VS-NVEYPCGv-FoqrR\\nRka\\nzjO3RcghrannQ.:it 'R!!QhLW!IKgTMITWGH3c-CAxk;IXM\""
            ],
            "application/vnd.google.colaboratory.intrinsic+json": {
              "type": "string"
            }
          },
          "metadata": {},
          "execution_count": 21
        }
      ]
    },
    {
      "cell_type": "markdown",
      "source": [
        "So now we need to create a loss function that can compare that output to the expected output and give us some numeric value representing\n",
        "how close the two were."
      ],
      "metadata": {
        "id": "MyC6TWXvgUzP"
      },
      "id": "MyC6TWXvgUzP"
    },
    {
      "cell_type": "code",
      "source": [
        "def loss(labels, logits):\n",
        "  return tf.keras.losses.sparse_categorical_crossentropy(labels, logits, from_logits=True)"
      ],
      "metadata": {
        "id": "G8HQvKhVgK5s"
      },
      "id": "G8HQvKhVgK5s",
      "execution_count": 22,
      "outputs": []
    },
    {
      "cell_type": "markdown",
      "source": [
        "# Compiling the Model\n",
        "At this point we can think of our problem as a classification problem where the model predicts the probabillity of each unique letter coming\n",
        "next."
      ],
      "metadata": {
        "id": "e2yNIl0qhPWg"
      },
      "id": "e2yNIl0qhPWg"
    },
    {
      "cell_type": "code",
      "source": [
        "model.compile(optimizer = 'adam', loss = loss)"
      ],
      "metadata": {
        "id": "tLZzUtH8hD5Q"
      },
      "id": "tLZzUtH8hD5Q",
      "execution_count": 23,
      "outputs": []
    },
    {
      "cell_type": "markdown",
      "source": [
        "# Creating Checkpoints\n",
        "Now we are going to setup and configure our model to save checkpoinst as it trains.This will allow us to load our model from a checkpoint\n",
        "and continue training it."
      ],
      "metadata": {
        "id": "7lHK8Vtm65Nm"
      },
      "id": "7lHK8Vtm65Nm"
    },
    {
      "cell_type": "code",
      "source": [
        "# Directory where the checkpoints will be saved\n",
        "checkpoint_dir = './training_checkpoints'\n",
        "# Name the checkpoint files\n",
        "checkpoint_prefix = os.path.join(checkpoint_dir, \"ckpt_{epoch}\")\n",
        "\n",
        "checkpoint_callback = tf.keras.callbacks.ModelCheckpoint(\n",
        "    filepath = checkpoint_prefix,\n",
        "    save_weights_only=True)"
      ],
      "metadata": {
        "id": "mVxFG0cD67XN"
      },
      "id": "mVxFG0cD67XN",
      "execution_count": 24,
      "outputs": []
    },
    {
      "cell_type": "markdown",
      "source": [
        "# Training\n",
        "Finally we will start training the model."
      ],
      "metadata": {
        "id": "LXrhcwck8I2o"
      },
      "id": "LXrhcwck8I2o"
    },
    {
      "cell_type": "code",
      "source": [
        "history = model.fit(data, epochs=2, callbacks = [checkpoint_callback])"
      ],
      "metadata": {
        "colab": {
          "base_uri": "https://localhost:8080/"
        },
        "id": "mpLtQ7NS78uj",
        "outputId": "e3976c9b-5320-4f34-de1e-c42cf62df315"
      },
      "id": "mpLtQ7NS78uj",
      "execution_count": 25,
      "outputs": [
        {
          "output_type": "stream",
          "name": "stdout",
          "text": [
            "Epoch 1/2\n",
            "172/172 [==============================] - 1272s 7s/step - loss: 2.5625\n",
            "Epoch 2/2\n",
            "172/172 [==============================] - 1171s 7s/step - loss: 1.8616\n"
          ]
        }
      ]
    },
    {
      "cell_type": "markdown",
      "source": [
        "# Loading the Model\n",
        "We'll rebuild the model from a checkpoint using a batch_size of 1 so that we can feed one peice of text to the model and have it make a\n",
        "prediction."
      ],
      "metadata": {
        "id": "OwLjNvxv8vWA"
      },
      "id": "OwLjNvxv8vWA"
    },
    {
      "cell_type": "code",
      "source": [
        "model = build_model(VOCAB_SIZE, EMBEDDING_DIM, RNN_UNITS, batch_size=1)"
      ],
      "metadata": {
        "id": "q_jm9eQH8gmb"
      },
      "id": "q_jm9eQH8gmb",
      "execution_count": 26,
      "outputs": []
    },
    {
      "cell_type": "markdown",
      "source": [
        "Once the model is finished training we can find the lastest checkpoint that stores the models weights using the following line."
      ],
      "metadata": {
        "id": "7qsZyo0u9Nzu"
      },
      "id": "7qsZyo0u9Nzu"
    },
    {
      "cell_type": "code",
      "source": [
        "model.load_weights(tf.train.latest_checkpoint(checkpoint_dir))\n",
        "model.build(tf.TensorShape([1, None]))"
      ],
      "metadata": {
        "id": "qxl2QLAt9gtL"
      },
      "id": "qxl2QLAt9gtL",
      "execution_count": 27,
      "outputs": []
    },
    {
      "cell_type": "markdown",
      "source": [
        "We can load any checkpoint we want by specifying the exact file to load."
      ],
      "metadata": {
        "id": "H53D1FKe_cn1"
      },
      "id": "H53D1FKe_cn1"
    },
    {
      "cell_type": "code",
      "source": [
        "checkpoint_num = 10\n",
        "model.load_weights(tf.train.load_checkpoint(\"./ training checkpoints/ckpt_\" + str(checkpoint_num)))\n",
        "model.build(tf.TensorShape([1, None]))"
      ],
      "metadata": {
        "colab": {
          "base_uri": "https://localhost:8080/",
          "height": 583
        },
        "id": "VzILOHZy_eVq",
        "outputId": "c227402f-4fe3-4b68-ef6a-8eef8d1bf709"
      },
      "id": "VzILOHZy_eVq",
      "execution_count": 30,
      "outputs": [
        {
          "output_type": "error",
          "ename": "NotFoundError",
          "evalue": "ignored",
          "traceback": [
            "\u001b[0;31m---------------------------------------------------------------------------\u001b[0m",
            "\u001b[0;31mRuntimeError\u001b[0m                              Traceback (most recent call last)",
            "\u001b[0;32m/usr/local/lib/python3.7/dist-packages/tensorflow/python/training/py_checkpoint_reader.py\u001b[0m in \u001b[0;36mNewCheckpointReader\u001b[0;34m(filepattern)\u001b[0m\n\u001b[1;32m     91\u001b[0m   \u001b[0;32mtry\u001b[0m\u001b[0;34m:\u001b[0m\u001b[0;34m\u001b[0m\u001b[0;34m\u001b[0m\u001b[0m\n\u001b[0;32m---> 92\u001b[0;31m     \u001b[0;32mreturn\u001b[0m \u001b[0mCheckpointReader\u001b[0m\u001b[0;34m(\u001b[0m\u001b[0mcompat\u001b[0m\u001b[0;34m.\u001b[0m\u001b[0mas_bytes\u001b[0m\u001b[0;34m(\u001b[0m\u001b[0mfilepattern\u001b[0m\u001b[0;34m)\u001b[0m\u001b[0;34m)\u001b[0m\u001b[0;34m\u001b[0m\u001b[0;34m\u001b[0m\u001b[0m\n\u001b[0m\u001b[1;32m     93\u001b[0m   \u001b[0;31m# TODO(b/143319754): Remove the RuntimeError casting logic once we resolve the\u001b[0m\u001b[0;34m\u001b[0m\u001b[0;34m\u001b[0m\u001b[0;34m\u001b[0m\u001b[0m\n",
            "\u001b[0;31mRuntimeError\u001b[0m: Unsuccessful TensorSliceReader constructor: Failed to find any matching files for ./ training checkpoints/ckpt_10",
            "\nDuring handling of the above exception, another exception occurred:\n",
            "\u001b[0;31mNotFoundError\u001b[0m                             Traceback (most recent call last)",
            "\u001b[0;32m<ipython-input-30-9245f5af7262>\u001b[0m in \u001b[0;36m<module>\u001b[0;34m\u001b[0m\n\u001b[1;32m      1\u001b[0m \u001b[0mcheckpoint_num\u001b[0m \u001b[0;34m=\u001b[0m \u001b[0;36m10\u001b[0m\u001b[0;34m\u001b[0m\u001b[0;34m\u001b[0m\u001b[0m\n\u001b[0;32m----> 2\u001b[0;31m \u001b[0mmodel\u001b[0m\u001b[0;34m.\u001b[0m\u001b[0mload_weights\u001b[0m\u001b[0;34m(\u001b[0m\u001b[0mtf\u001b[0m\u001b[0;34m.\u001b[0m\u001b[0mtrain\u001b[0m\u001b[0;34m.\u001b[0m\u001b[0mload_checkpoint\u001b[0m\u001b[0;34m(\u001b[0m\u001b[0;34m\"./ training checkpoints/ckpt_\"\u001b[0m \u001b[0;34m+\u001b[0m \u001b[0mstr\u001b[0m\u001b[0;34m(\u001b[0m\u001b[0mcheckpoint_num\u001b[0m\u001b[0;34m)\u001b[0m\u001b[0;34m)\u001b[0m\u001b[0;34m)\u001b[0m\u001b[0;34m\u001b[0m\u001b[0;34m\u001b[0m\u001b[0m\n\u001b[0m\u001b[1;32m      3\u001b[0m \u001b[0mmodel\u001b[0m\u001b[0;34m.\u001b[0m\u001b[0mbuild\u001b[0m\u001b[0;34m(\u001b[0m\u001b[0mtf\u001b[0m\u001b[0;34m.\u001b[0m\u001b[0mTensorShape\u001b[0m\u001b[0;34m(\u001b[0m\u001b[0;34m[\u001b[0m\u001b[0;36m1\u001b[0m\u001b[0;34m,\u001b[0m \u001b[0;32mNone\u001b[0m\u001b[0;34m]\u001b[0m\u001b[0;34m)\u001b[0m\u001b[0;34m)\u001b[0m\u001b[0;34m\u001b[0m\u001b[0;34m\u001b[0m\u001b[0m\n",
            "\u001b[0;32m/usr/local/lib/python3.7/dist-packages/tensorflow/python/training/checkpoint_utils.py\u001b[0m in \u001b[0;36mload_checkpoint\u001b[0;34m(ckpt_dir_or_file)\u001b[0m\n\u001b[1;32m     62\u001b[0m     raise ValueError(\"Couldn't find 'checkpoint' file or checkpoints in \"\n\u001b[1;32m     63\u001b[0m                      \"given directory %s\" % ckpt_dir_or_file)\n\u001b[0;32m---> 64\u001b[0;31m   \u001b[0;32mreturn\u001b[0m \u001b[0mpy_checkpoint_reader\u001b[0m\u001b[0;34m.\u001b[0m\u001b[0mNewCheckpointReader\u001b[0m\u001b[0;34m(\u001b[0m\u001b[0mfilename\u001b[0m\u001b[0;34m)\u001b[0m\u001b[0;34m\u001b[0m\u001b[0;34m\u001b[0m\u001b[0m\n\u001b[0m\u001b[1;32m     65\u001b[0m \u001b[0;34m\u001b[0m\u001b[0m\n\u001b[1;32m     66\u001b[0m \u001b[0;34m\u001b[0m\u001b[0m\n",
            "\u001b[0;32m/usr/local/lib/python3.7/dist-packages/tensorflow/python/training/py_checkpoint_reader.py\u001b[0m in \u001b[0;36mNewCheckpointReader\u001b[0;34m(filepattern)\u001b[0m\n\u001b[1;32m     94\u001b[0m   \u001b[0;31m# issue with throwing python exceptions from C++.\u001b[0m\u001b[0;34m\u001b[0m\u001b[0;34m\u001b[0m\u001b[0;34m\u001b[0m\u001b[0m\n\u001b[1;32m     95\u001b[0m   \u001b[0;32mexcept\u001b[0m \u001b[0mRuntimeError\u001b[0m \u001b[0;32mas\u001b[0m \u001b[0me\u001b[0m\u001b[0;34m:\u001b[0m\u001b[0;34m\u001b[0m\u001b[0;34m\u001b[0m\u001b[0m\n\u001b[0;32m---> 96\u001b[0;31m     \u001b[0merror_translator\u001b[0m\u001b[0;34m(\u001b[0m\u001b[0me\u001b[0m\u001b[0;34m)\u001b[0m\u001b[0;34m\u001b[0m\u001b[0;34m\u001b[0m\u001b[0m\n\u001b[0m",
            "\u001b[0;32m/usr/local/lib/python3.7/dist-packages/tensorflow/python/training/py_checkpoint_reader.py\u001b[0m in \u001b[0;36merror_translator\u001b[0;34m(e)\u001b[0m\n\u001b[1;32m     29\u001b[0m       \u001b[0;34m'Failed to find any '\u001b[0m\u001b[0;34m\u001b[0m\u001b[0;34m\u001b[0m\u001b[0m\n\u001b[1;32m     30\u001b[0m       'matching files for') in error_message:\n\u001b[0;32m---> 31\u001b[0;31m     \u001b[0;32mraise\u001b[0m \u001b[0merrors_impl\u001b[0m\u001b[0;34m.\u001b[0m\u001b[0mNotFoundError\u001b[0m\u001b[0;34m(\u001b[0m\u001b[0;32mNone\u001b[0m\u001b[0;34m,\u001b[0m \u001b[0;32mNone\u001b[0m\u001b[0;34m,\u001b[0m \u001b[0merror_message\u001b[0m\u001b[0;34m)\u001b[0m\u001b[0;34m\u001b[0m\u001b[0;34m\u001b[0m\u001b[0m\n\u001b[0m\u001b[1;32m     32\u001b[0m   elif 'Sliced checkpoints are not supported' in error_message or (\n\u001b[1;32m     33\u001b[0m       \u001b[0;34m'Data type '\u001b[0m\u001b[0;34m\u001b[0m\u001b[0;34m\u001b[0m\u001b[0m\n",
            "\u001b[0;31mNotFoundError\u001b[0m: Unsuccessful TensorSliceReader constructor: Failed to find any matching files for ./ training checkpoints/ckpt_10"
          ]
        }
      ]
    },
    {
      "cell_type": "markdown",
      "source": [
        "# Generating Text\n",
        "Now we can use the lovely function provided by tensorflow to generate some text using any starting string we'd like."
      ],
      "metadata": {
        "id": "PIk_dzN1BsfL"
      },
      "id": "PIk_dzN1BsfL"
    },
    {
      "cell_type": "code",
      "source": [
        "def generate_text(model, start_string):\n",
        "# Evaluation step (generating text using the learned model)\n",
        "\n",
        "#Number of characters to generate\n",
        "  num_generate = 800\n",
        "# Converting our start string to numbers (vectorizing)\n",
        "  input_eval = [char2idx[s] for s in start_string]\n",
        "  input_eval = tf.expand_dims(input_eval, 0)\n",
        "# Empty string to store our results\n",
        "  text_generated = []\n",
        "# Low temperatures results in more predictable text.\n",
        "# Higher temperatures results in more surprising text.\n",
        "# Experiment to find the best setting.\n",
        "  temperature = 1.0\n",
        "\n",
        "  # Here batch size == 1\n",
        "  model.reset_states()\n",
        "  for i in range(num_generate):\n",
        "    predictions = model(input_eval)\n",
        "    # remove the batch dimension\n",
        "    predictions = tf.squeeze(predictions, 0)\n",
        "    # using a categorical distribution to predict the character returned by the model\n",
        "    predictions = predictions / temperature\n",
        "    predicted_id = tf.random.categorical(predictions, num_samples=1)[-1,0].numpy()\n",
        "    # We pass the predicted character as the next input to the model\n",
        "    # along with the previous hidden state\n",
        "    input_eval = tf.expand_dims([predicted_id], 0)\n",
        "    text_generated.append(idx2char[predicted_id])\n",
        "  return (start_string + ' '.join(text_generated))\n",
        "    "
      ],
      "metadata": {
        "id": "4-f8_x0tB7Pu"
      },
      "id": "4-f8_x0tB7Pu",
      "execution_count": 32,
      "outputs": []
    },
    {
      "cell_type": "code",
      "source": [
        "inp = input(\"Type a starting string: \")\n",
        "print(generate_text(model, inp)) "
      ],
      "metadata": {
        "colab": {
          "base_uri": "https://localhost:8080/"
        },
        "id": "YLWvolOgDG5N",
        "outputId": "47505932-a31e-4fdd-fa86-df4b41831d71"
      },
      "id": "YLWvolOgDG5N",
      "execution_count": 33,
      "outputs": [
        {
          "output_type": "stream",
          "name": "stdout",
          "text": [
            "Type a starting string: romeo\n",
            "romeou ? \n",
            " \n",
            " P O M I L E N E S : \n",
            " M e t a y ,   a n d   I   s a y ,   w h o m   I   h a v e ,   m a d e ,   s h o   g u t s e l f   b e ,   s i r ? \n",
            " W h o ,   w i l l   I   w o u l d   o u t h r a r d   t h e   k l o w   d e a r t h o n d \n",
            " S e a l l y   b u t   d i d l e d   y o u r   p r i n c u s e   a s   y o u   m a k e   t o o d \n",
            " B e t h i c e d e n   e x t   w h o s   t h a t   h i m   o r e   i t   p a r d   c o u c h , \n",
            " S e c a r e   f o r r o w i o n ' s   w i t h   t h e s   t h r e a t h e r ,   h a v e   n o t   t h e   s e a v e r . \n",
            " N o r t o m e   y o u   s h o w n d   i n e   s h e l i v e d ,   s h a l l   c o m e ,   h e   s w a i t h y   a l e . \n",
            " \n",
            " F i r s t   F o r n r e r : \n",
            " ' T i s   l o r d   l a c a i n e d ' s   r i e   a m y   a n d   t h a t   p r o c e r . \n",
            " \n",
            " A S T I A N S : \n",
            " A t h e e   r i s t i s e   a   m o r e   b e e n   a n d   s h a l l \n",
            " T o u c k ' d   a   k n o u g h t h . \n",
            " \n",
            " R O M T R S A M E R L A : \n",
            " S o ,   h i r   m e n t   y o u r ,   s l e s   t h e   s c o r e .   W h y   n o r e w   B u l   p e r c e ;   t o   i s h e r f o r . \n",
            " \n",
            " F o r s t   m y   t h a n   m e ,   w e l l   t h e   s o l ,   a s   l u g f o u r e d   w i t h o r   t h e   s o v e : \n",
            " S   h e a r t   m u r   i n g u r o u t h   y o u r   d e a t h . ;   w h o r e   i s   v o l l a i n e   t o \n",
            " m a k e n :   i t ;   n o t   m a y   t h y   d i a m   E d w a r l   y o u , \n",
            " B u t   f l i e n d s   y o u r   f o r b u s t   y o u   b e   o f f e c t   b e c e   t o   k i t h   y e a r s . \n",
            " \n",
            " C A R I S : \n",
            " H o l i o n c e s !   J u s t e n s ,   A n d  \n"
          ]
        }
      ]
    },
    {
      "cell_type": "markdown",
      "source": [],
      "metadata": {
        "id": "ySNxG2KGDG3g"
      },
      "id": "ySNxG2KGDG3g"
    }
  ],
  "metadata": {
    "kernelspec": {
      "display_name": "Python 3 (ipykernel)",
      "language": "python",
      "name": "python3"
    },
    "language_info": {
      "codemirror_mode": {
        "name": "ipython",
        "version": 3
      },
      "file_extension": ".py",
      "mimetype": "text/x-python",
      "name": "python",
      "nbconvert_exporter": "python",
      "pygments_lexer": "ipython3",
      "version": "3.10.6"
    },
    "colab": {
      "provenance": [],
      "collapsed_sections": []
    }
  },
  "nbformat": 4,
  "nbformat_minor": 5
}