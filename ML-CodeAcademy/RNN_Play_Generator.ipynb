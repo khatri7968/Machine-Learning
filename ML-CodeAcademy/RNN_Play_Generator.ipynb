{
  "cells": [
    {
      "cell_type": "markdown",
      "id": "26736a44",
      "metadata": {
        "id": "26736a44"
      },
      "source": [
        "# RNN PLAY GENERATOR"
      ]
    },
    {
      "cell_type": "code",
      "execution_count": 3,
      "id": "77897a3d",
      "metadata": {
        "colab": {
          "base_uri": "https://localhost:8080/"
        },
        "id": "77897a3d",
        "outputId": "9d6bc61d-3ab2-4694-b42b-75031acc6f5a"
      },
      "outputs": [
        {
          "output_type": "stream",
          "name": "stdout",
          "text": [
            "Colab only includes TensorFlow 2.x; %tensorflow_version has no effect.\n"
          ]
        }
      ],
      "source": [
        "%tensorflow_version 2.x\n",
        "from keras.preprocessing import sequence\n",
        "import keras\n",
        "import tensorflow as tf\n",
        "import os\n",
        "import numpy as np"
      ]
    },
    {
      "cell_type": "markdown",
      "id": "f8296ef1",
      "metadata": {
        "id": "f8296ef1"
      },
      "source": [
        "***Dataset***"
      ]
    },
    {
      "cell_type": "code",
      "execution_count": 4,
      "id": "80c7fd69",
      "metadata": {
        "colab": {
          "base_uri": "https://localhost:8080/"
        },
        "id": "80c7fd69",
        "outputId": "a05b1a79-b455-419c-f42e-5d8043f55917"
      },
      "outputs": [
        {
          "output_type": "stream",
          "name": "stdout",
          "text": [
            "Downloading data from https://storage.googleapis.com/download.tensorflow.org/data/shakespeare.txt\n",
            "1122304/1115394 [==============================] - 0s 0us/step\n",
            "1130496/1115394 [==============================] - 0s 0us/step\n"
          ]
        }
      ],
      "source": [
        "path_to_file = tf.keras.utils.get_file('shakespare.txt', 'https://storage.googleapis.com/download.tensorflow.org/data/shakespeare.txt')"
      ]
    },
    {
      "cell_type": "markdown",
      "id": "fd5b7620",
      "metadata": {
        "id": "fd5b7620"
      },
      "source": [
        "***Loading your own data***"
      ]
    },
    {
      "cell_type": "code",
      "execution_count": 5,
      "id": "83982526",
      "metadata": {
        "scrolled": true,
        "id": "83982526",
        "colab": {
          "resources": {
            "http://localhost:8080/nbextensions/google.colab/files.js": {
              "data": "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",
              "ok": true,
              "headers": [
                [
                  "content-type",
                  "application/javascript"
                ]
              ],
              "status": 200,
              "status_text": ""
            }
          },
          "base_uri": "https://localhost:8080/",
          "height": 212
        },
        "outputId": "7b0e1a4b-a321-4543-f2a6-4badcf42402e"
      },
      "outputs": [
        {
          "output_type": "display_data",
          "data": {
            "text/plain": [
              "<IPython.core.display.HTML object>"
            ],
            "text/html": [
              "\n",
              "     <input type=\"file\" id=\"files-73745009-2238-428f-884b-3f24b2b6c0d2\" name=\"files[]\" multiple disabled\n",
              "        style=\"border:none\" />\n",
              "     <output id=\"result-73745009-2238-428f-884b-3f24b2b6c0d2\">\n",
              "      Upload widget is only available when the cell has been executed in the\n",
              "      current browser session. Please rerun this cell to enable.\n",
              "      </output>\n",
              "      <script src=\"/nbextensions/google.colab/files.js\"></script> "
            ]
          },
          "metadata": {}
        },
        {
          "output_type": "error",
          "ename": "IndexError",
          "evalue": "ignored",
          "traceback": [
            "\u001b[0;31m---------------------------------------------------------------------------\u001b[0m",
            "\u001b[0;31mIndexError\u001b[0m                                Traceback (most recent call last)",
            "\u001b[0;32m<ipython-input-5-f0cf22c78c77>\u001b[0m in \u001b[0;36m<module>\u001b[0;34m\u001b[0m\n\u001b[1;32m      1\u001b[0m \u001b[0;32mfrom\u001b[0m \u001b[0mgoogle\u001b[0m\u001b[0;34m.\u001b[0m\u001b[0mcolab\u001b[0m \u001b[0;32mimport\u001b[0m \u001b[0mfiles\u001b[0m\u001b[0;34m\u001b[0m\u001b[0;34m\u001b[0m\u001b[0m\n\u001b[0;32m----> 2\u001b[0;31m \u001b[0mpath_to_file\u001b[0m \u001b[0;34m=\u001b[0m \u001b[0mlist\u001b[0m\u001b[0;34m(\u001b[0m\u001b[0mfiles\u001b[0m\u001b[0;34m.\u001b[0m\u001b[0mupload\u001b[0m\u001b[0;34m(\u001b[0m\u001b[0;34m)\u001b[0m\u001b[0;34m.\u001b[0m\u001b[0mkeys\u001b[0m\u001b[0;34m(\u001b[0m\u001b[0;34m)\u001b[0m\u001b[0;34m)\u001b[0m\u001b[0;34m[\u001b[0m\u001b[0;36m0\u001b[0m\u001b[0;34m]\u001b[0m\u001b[0;34m\u001b[0m\u001b[0;34m\u001b[0m\u001b[0m\n\u001b[0m",
            "\u001b[0;31mIndexError\u001b[0m: list index out of range"
          ]
        }
      ],
      "source": [
        "from google.colab import files\n",
        "path_to_file = list(files.upload().keys())[0]"
      ]
    },
    {
      "cell_type": "markdown",
      "source": [
        "# Read contents of file\n",
        "Let's look at the contents of file"
      ],
      "metadata": {
        "id": "PP-Y_inIVYtd"
      },
      "id": "PP-Y_inIVYtd"
    },
    {
      "cell_type": "code",
      "execution_count": 6,
      "id": "f56e50db",
      "metadata": {
        "colab": {
          "base_uri": "https://localhost:8080/"
        },
        "id": "f56e50db",
        "outputId": "7fd58f4c-138f-47a0-f0a9-a9720f28549d"
      },
      "outputs": [
        {
          "output_type": "stream",
          "name": "stdout",
          "text": [
            "length of text: 1115394 characters\n"
          ]
        }
      ],
      "source": [
        "# Read and then decode for py2 compat\n",
        "text = open(path_to_file, 'rb').read().decode(encoding='utf-8')\n",
        "\n",
        "# length of the text is the number of characters in it\n",
        "print('length of text: {} characters'.format(len(text)))"
      ]
    },
    {
      "cell_type": "code",
      "source": [
        "print(text[:250])"
      ],
      "metadata": {
        "colab": {
          "base_uri": "https://localhost:8080/"
        },
        "id": "EwJKG-SYakDy",
        "outputId": "bf5838e3-1cab-4d55-ac45-57f0d5b75030"
      },
      "id": "EwJKG-SYakDy",
      "execution_count": 7,
      "outputs": [
        {
          "output_type": "stream",
          "name": "stdout",
          "text": [
            "First Citizen:\n",
            "Before we proceed any further, hear me speak.\n",
            "\n",
            "All:\n",
            "Speak, speak.\n",
            "\n",
            "First Citizen:\n",
            "You are all resolved rather to die than to famish?\n",
            "\n",
            "All:\n",
            "Resolved. resolved.\n",
            "\n",
            "First Citizen:\n",
            "First, you know Caius Marcius is chief enemy to the people.\n",
            "\n"
          ]
        }
      ]
    },
    {
      "cell_type": "markdown",
      "source": [
        "# Encoding\n",
        "We will encode the each unique character"
      ],
      "metadata": {
        "id": "OPohScJSa1Er"
      },
      "id": "OPohScJSa1Er"
    },
    {
      "cell_type": "code",
      "source": [
        "vocab = sorted(set(text))\n",
        "# Creating a mapping from unique characters to indices\n",
        "char2idx = {u:i for i, u in enumerate(vocab)}\n",
        "idx2char = np.array(vocab)\n",
        "def text_to_int(text): \n",
        "  return np.array([char2idx[c] for c in text])\n",
        "\n",
        "text_as_int = text_to_int(text)\n"
      ],
      "metadata": {
        "id": "MbbEMgJ3apjP"
      },
      "id": "MbbEMgJ3apjP",
      "execution_count": 8,
      "outputs": []
    },
    {
      "cell_type": "code",
      "source": [
        "#lets look at how part of our text is encoded\n",
        "print(\"Text:\", text[:13])\n",
        "print(\"Encoded\", text_to_int(text[:13]))"
      ],
      "metadata": {
        "colab": {
          "base_uri": "https://localhost:8080/"
        },
        "id": "ncwBy9Lxch35",
        "outputId": "58e91da5-524a-40f8-ea3a-c73955225766"
      },
      "id": "ncwBy9Lxch35",
      "execution_count": 9,
      "outputs": [
        {
          "output_type": "stream",
          "name": "stdout",
          "text": [
            "Text: First Citizen\n",
            "Encoded [18 47 56 57 58  1 15 47 58 47 64 43 52]\n"
          ]
        }
      ]
    },
    {
      "cell_type": "markdown",
      "source": [
        "Here we will make a function which converts numeric to text"
      ],
      "metadata": {
        "id": "HmmCSc8tfqin"
      },
      "id": "HmmCSc8tfqin"
    },
    {
      "cell_type": "code",
      "source": [
        "def int_to_text(ints):\n",
        "  try:\n",
        "    ints = ints.numpy()\n",
        "  except:\n",
        "    pass\n",
        "  return '' .join(idx2char[ints])\n",
        "print(int_to_text(text_as_int[:13]))"
      ],
      "metadata": {
        "colab": {
          "base_uri": "https://localhost:8080/"
        },
        "id": "H23qb_PGfAai",
        "outputId": "1efa3d3e-8a9a-45b9-9196-7fe6e095c452"
      },
      "id": "H23qb_PGfAai",
      "execution_count": 10,
      "outputs": [
        {
          "output_type": "stream",
          "name": "stdout",
          "text": [
            "First Citizen\n"
          ]
        }
      ]
    },
    {
      "cell_type": "code",
      "source": [],
      "metadata": {
        "id": "C1ZGmdSv68Eu"
      },
      "id": "C1ZGmdSv68Eu",
      "execution_count": null,
      "outputs": []
    },
    {
      "cell_type": "markdown",
      "source": [
        "# Creating Training Examples\n",
        "\n",
        "input: Hell | output: ello"
      ],
      "metadata": {
        "id": "pPxey6VNotv0"
      },
      "id": "pPxey6VNotv0"
    },
    {
      "cell_type": "code",
      "source": [
        "seq_length = 100 # length of sequence for a training example\n",
        "examples_per_epoch = len(text)//(seq_length+1)\n",
        "\n",
        "# Create training examples / targets\n",
        "char_dataset = tf.data.Dataset.from_tensor_slices(text_as_int)"
      ],
      "metadata": {
        "id": "0akJ9AI9merI"
      },
      "id": "0akJ9AI9merI",
      "execution_count": 11,
      "outputs": []
    },
    {
      "cell_type": "markdown",
      "source": [
        "Next we can use the batch method to turn this stream of characters into batches of desired length"
      ],
      "metadata": {
        "id": "vwHo4xiiqh6r"
      },
      "id": "vwHo4xiiqh6r"
    },
    {
      "cell_type": "code",
      "source": [
        "sequences = char_dataset.batch(seq_length+1, drop_remainder = True)"
      ],
      "metadata": {
        "id": "mgHr9HzMqHOk"
      },
      "id": "mgHr9HzMqHOk",
      "execution_count": 12,
      "outputs": []
    },
    {
      "cell_type": "markdown",
      "source": [
        "Now we need to use these sequences of length 101 and split them into input and output"
      ],
      "metadata": {
        "id": "BoY2YUo3rKtI"
      },
      "id": "BoY2YUo3rKtI"
    },
    {
      "cell_type": "code",
      "source": [
        "def split_input_target(chunk):\n",
        "  input_text = chunk[:-1] #hell\n",
        "  target_text = chunk[1:] #ello\n",
        "  return input_text, target_text #hell, ello\n",
        "\n",
        "dataset = sequences.map(split_input_target) # we use map to apply the above function to every entery"
      ],
      "metadata": {
        "id": "hmGHKKxQqdNw"
      },
      "id": "hmGHKKxQqdNw",
      "execution_count": 15,
      "outputs": []
    },
    {
      "cell_type": "code",
      "source": [
        "for x, y in dataset.take(2):\n",
        "  print(\"\\n\\nEXAMPLE\\n\")\n",
        "  print(\"INPUT\")\n",
        "  print(int_to_text(x))\n",
        "  print(\"\\nOUTPUT\")\n",
        "  print(int_to_text(y))"
      ],
      "metadata": {
        "colab": {
          "base_uri": "https://localhost:8080/"
        },
        "id": "SAT-3zRlQlCC",
        "outputId": "4e994003-2792-4282-ab05-322306dca5ec"
      },
      "id": "SAT-3zRlQlCC",
      "execution_count": 16,
      "outputs": [
        {
          "output_type": "stream",
          "name": "stdout",
          "text": [
            "\n",
            "\n",
            "EXAMPLE\n",
            "\n",
            "INPUT\n",
            "First Citizen:\n",
            "Before we proceed any further, hear me speak.\n",
            "\n",
            "All:\n",
            "Speak, speak.\n",
            "\n",
            "First Citizen:\n",
            "You\n",
            "\n",
            "OUTPUT\n",
            "irst Citizen:\n",
            "Before we proceed any further, hear me speak.\n",
            "\n",
            "All:\n",
            "Speak, speak.\n",
            "\n",
            "First Citizen:\n",
            "You \n",
            "\n",
            "\n",
            "EXAMPLE\n",
            "\n",
            "INPUT\n",
            "are all resolved rather to die than to famish?\n",
            "\n",
            "All:\n",
            "Resolved. resolved.\n",
            "\n",
            "First Citizen:\n",
            "First, you \n",
            "\n",
            "OUTPUT\n",
            "re all resolved rather to die than to famish?\n",
            "\n",
            "All:\n",
            "Resolved. resolved.\n",
            "\n",
            "First Citizen:\n",
            "First, you k\n"
          ]
        }
      ]
    },
    {
      "cell_type": "code",
      "source": [
        "BATCH_SIZE = 64\n",
        "VOCAB_SIZE = len(vocab) # vocab is number of unique characters\n",
        "EMBEDDING_DIM = 256\n",
        "RNN_UNITS = 1024\n",
        "\n",
        "# Buffer size to shuffle the dataset\n",
        "# (TF data is designed to work with possibly infinite sequences,\n",
        "# so it doesn't attempt to shuffle the entire sequence in memory. Instead,\n",
        "# it maintains a buffer in which it shuffles elements).\n",
        "\n",
        "\n",
        "BUFFER_SIZE = 10000\n",
        "\n",
        "data = dataset.shuffle(BUFFER_SIZE).batch(BATCH_SIZE, drop_remainder=True)"
      ],
      "metadata": {
        "id": "ycvydpZ5SX4B"
      },
      "id": "ycvydpZ5SX4B",
      "execution_count": 20,
      "outputs": []
    },
    {
      "cell_type": "markdown",
      "source": [
        "# Building the Model\n",
        "Now it is time to build the model.We will use an embedding layer a LSTM and one dense layer that contains a node for each unique character\n",
        "in our training data.The dense layer will give us a probability distribution over all nodes."
      ],
      "metadata": {
        "id": "ETu5QQBWUJrf"
      },
      "id": "ETu5QQBWUJrf"
    },
    {
      "cell_type": "code",
      "source": [
        "def build_model(vocab_size, embedding_dim, rnn_uints, batch_size):\n",
        "  model = tf.keras.Sequential([\n",
        "      tf.keras.layers.Embedding(vocab_size, embedding_dim,\n",
        "                                batch_input_shape = [batch_size, None]),\n",
        "      tf.keras.layers.LSTM(rnn_uints,\n",
        "                           return_sequences = True,\n",
        "                           stateful = True,\n",
        "                           recurrent_initializer=\"glorot_uniform\"),\n",
        "      tf.keras.layers.Dense(vocab_size)\n",
        "  ])\n",
        "  return model\n",
        "\n",
        "model = build_model(VOCAB_SIZE, EMBEDDING_DIM, RNN_UNITS, BATCH_SIZE)\n",
        "model.summary()"
      ],
      "metadata": {
        "colab": {
          "base_uri": "https://localhost:8080/"
        },
        "id": "g-X5ZbPjUOeS",
        "outputId": "a9a28ccf-9177-4662-f410-f755f08933b5"
      },
      "id": "g-X5ZbPjUOeS",
      "execution_count": 23,
      "outputs": [
        {
          "output_type": "stream",
          "name": "stdout",
          "text": [
            "Model: \"sequential\"\n",
            "_________________________________________________________________\n",
            " Layer (type)                Output Shape              Param #   \n",
            "=================================================================\n",
            " embedding_2 (Embedding)     (64, None, 256)           16640     \n",
            "                                                                 \n",
            " lstm (LSTM)                 (64, None, 1024)          5246976   \n",
            "                                                                 \n",
            " dense (Dense)               (64, None, 65)            66625     \n",
            "                                                                 \n",
            "=================================================================\n",
            "Total params: 5,330,241\n",
            "Trainable params: 5,330,241\n",
            "Non-trainable params: 0\n",
            "_________________________________________________________________\n"
          ]
        }
      ]
    },
    {
      "cell_type": "markdown",
      "source": [
        "# Creating a Loss Function\n",
        "Now we are actually going to create our own loss function for this problem.This is because our model will output a (64,sequence_length,65)\n",
        "shaped tensor that represents the probability distribution of each character at each timestep for every sequence in the batch.\n",
        "However,before we do that let's have a look at a sample input and the output from our untrained model. This is so we can understand what the\n",
        "model is actually giving us."
      ],
      "metadata": {
        "id": "09ciJL1JYCL5"
      },
      "id": "09ciJL1JYCL5"
    },
    {
      "cell_type": "code",
      "source": [
        "for input_example_batch, target_example_batch in data.take(1):\n",
        "  example_batch_predictions = model(input_example_batch) # ask our model for aprediction on our first batch of training dataset\n",
        "  print(example_batch_predictions.shape, \"# (batch_size, sequence_length, vocab_size)\") # print out the output shape"
      ],
      "metadata": {
        "colab": {
          "base_uri": "https://localhost:8080/"
        },
        "id": "xjWTVE-tW2jZ",
        "outputId": "8cb6e1c1-25a2-4646-cd5a-1083f2ec0233"
      },
      "id": "xjWTVE-tW2jZ",
      "execution_count": 24,
      "outputs": [
        {
          "output_type": "stream",
          "name": "stdout",
          "text": [
            "(64, 100, 65) # (batch_size, sequence_length, vocab_size)\n"
          ]
        }
      ]
    },
    {
      "cell_type": "code",
      "source": [
        "# We can see that the prdicition id an array of 64 arrays, one for each entry in batch\n",
        "print(len(example_batch_predictions))\n",
        "print(example_batch_predictions)"
      ],
      "metadata": {
        "colab": {
          "base_uri": "https://localhost:8080/"
        },
        "id": "oG9ykTISanJe",
        "outputId": "ac886775-d4ff-4b7a-ef2b-5508b3a6412f"
      },
      "id": "oG9ykTISanJe",
      "execution_count": 25,
      "outputs": [
        {
          "output_type": "stream",
          "name": "stdout",
          "text": [
            "64\n",
            "tf.Tensor(\n",
            "[[[ 1.74478907e-03 -4.58745519e-03  6.40024990e-03 ...  2.28898716e-03\n",
            "    7.98028253e-04  4.07404313e-03]\n",
            "  [ 3.67813604e-03 -1.00730418e-03  3.12371738e-03 ...  2.28986563e-03\n",
            "    1.22551853e-03 -3.06183100e-03]\n",
            "  [ 5.97823784e-03  2.97526503e-03 -4.10111528e-03 ...  6.77584577e-03\n",
            "   -2.34531309e-03 -5.44930575e-03]\n",
            "  ...\n",
            "  [ 6.37668697e-03 -2.16520904e-03 -1.62774324e-02 ...  1.40031800e-02\n",
            "   -1.03834718e-02 -1.61315724e-02]\n",
            "  [ 3.61903780e-03 -9.34661925e-03 -1.43750608e-02 ...  1.80853568e-02\n",
            "   -1.19085778e-02 -9.22965258e-03]\n",
            "  [-7.10853189e-03 -1.26878032e-02 -6.26306934e-03 ...  1.46964854e-02\n",
            "   -1.41625786e-02 -6.27733115e-03]]\n",
            "\n",
            " [[ 4.17111395e-03 -9.21805622e-05 -5.58738783e-03 ...  2.10063974e-03\n",
            "    5.48746786e-04 -3.90784815e-03]\n",
            "  [ 4.31536045e-03  1.03293941e-03 -6.50820229e-03 ...  3.47453984e-03\n",
            "    1.51197496e-03 -9.01971012e-03]\n",
            "  [ 3.51817533e-03 -6.95744436e-03 -6.07289979e-03 ...  1.06371902e-02\n",
            "   -1.57277170e-03 -1.79312238e-03]\n",
            "  ...\n",
            "  [-1.03717130e-02  5.13462024e-03 -9.79809463e-03 ... -6.83301035e-03\n",
            "   -2.26733070e-02 -6.59414614e-03]\n",
            "  [-6.81467354e-03  7.66256824e-03 -1.15253888e-02 ...  3.89935914e-04\n",
            "   -2.08377801e-02 -1.32054035e-02]\n",
            "  [-5.05050831e-03  9.28995572e-03 -1.68467332e-02 ...  4.93514817e-03\n",
            "   -1.95077136e-02 -1.56321861e-02]]\n",
            "\n",
            " [[-3.78717377e-05 -7.72499526e-03 -1.65609026e-03 ...  7.50824157e-03\n",
            "   -2.30834098e-03  4.40594926e-03]\n",
            "  [ 1.45259686e-03 -8.73407722e-03 -2.44056061e-03 ...  6.73117768e-03\n",
            "   -3.42271803e-03  4.11975477e-03]\n",
            "  [ 2.35815626e-03 -1.06634144e-02  4.58361767e-03 ...  7.15849269e-03\n",
            "   -2.83359620e-03  6.46629184e-03]\n",
            "  ...\n",
            "  [-9.95426625e-03  8.05587880e-03 -1.55038247e-02 ... -1.64030388e-03\n",
            "   -1.95779018e-02 -1.25483479e-02]\n",
            "  [-8.71735439e-03  1.72611256e-03 -1.35266241e-02 ...  3.06334929e-03\n",
            "   -1.34652331e-02 -1.55645758e-02]\n",
            "  [-6.41815271e-03 -6.36392552e-03 -1.19025074e-02 ...  8.33130628e-03\n",
            "   -1.29317315e-02 -9.21237748e-03]]\n",
            "\n",
            " ...\n",
            "\n",
            " [[ 2.00765138e-03  3.76679562e-03 -3.41070746e-03 ...  6.17330335e-03\n",
            "   -3.05706356e-03 -6.62074098e-03]\n",
            "  [ 4.32754343e-04  7.13090040e-03 -3.72611172e-03 ... -4.45739646e-03\n",
            "   -5.22999745e-03 -2.52839550e-03]\n",
            "  [-3.38813034e-03  9.97217558e-03  1.39885466e-04 ... -8.83044861e-03\n",
            "   -1.48227951e-03 -1.44579727e-03]\n",
            "  ...\n",
            "  [-3.80736194e-04  1.56911579e-03 -2.18942296e-03 ...  1.22269280e-02\n",
            "   -7.38385879e-03 -2.67524389e-03]\n",
            "  [ 2.94741755e-03  5.12027880e-03 -8.71448033e-03 ...  1.37273204e-02\n",
            "   -9.33005381e-03 -6.62073726e-03]\n",
            "  [-4.71446780e-04  8.52700789e-03 -6.15423732e-03 ...  1.17388899e-02\n",
            "   -9.63871181e-03 -6.91772485e-03]]\n",
            "\n",
            " [[-1.66762780e-04  3.06814886e-03 -1.03994901e-03 ... -8.79513100e-03\n",
            "   -2.53578555e-03  2.94920546e-03]\n",
            "  [-6.49432652e-04 -5.80271147e-03 -3.05131637e-03 ...  1.22848712e-03\n",
            "   -3.65503901e-03  6.04720926e-03]\n",
            "  [ 9.04084765e-04 -6.18867669e-03 -3.34514538e-04 ... -1.09018211e-03\n",
            "   -6.20429916e-03  4.08317242e-03]\n",
            "  ...\n",
            "  [-8.06976925e-04  2.93435005e-04  2.54694978e-03 ...  1.45444609e-02\n",
            "   -3.55326873e-03  3.75078339e-03]\n",
            "  [ 1.94987515e-05 -2.78136134e-03  1.09611021e-03 ...  1.14559215e-02\n",
            "   -4.33231983e-03  4.31051152e-03]\n",
            "  [ 6.04479806e-04  9.75159812e-04 -6.16555382e-03 ...  1.35910735e-02\n",
            "   -7.14610657e-03 -8.50455021e-04]]\n",
            "\n",
            " [[ 1.74478907e-03 -4.58745519e-03  6.40024990e-03 ...  2.28898716e-03\n",
            "    7.98028253e-04  4.07404313e-03]\n",
            "  [ 5.58641786e-03  1.22811855e-03  1.07496371e-02 ... -2.17183726e-03\n",
            "    7.04714702e-03  5.43846982e-04]\n",
            "  [ 5.76675823e-03 -1.11313851e-03  6.26766542e-03 ... -2.48802535e-04\n",
            "    3.28328880e-03  1.50098500e-03]\n",
            "  ...\n",
            "  [ 1.16817304e-03 -7.22894771e-03 -7.07049854e-03 ...  1.33123063e-02\n",
            "   -1.03054103e-02 -3.36228730e-03]\n",
            "  [-8.93262960e-03 -1.07769854e-02 -2.94536818e-04 ...  1.02090221e-02\n",
            "   -1.23661039e-02 -1.60412490e-03]\n",
            "  [-1.61388479e-02 -2.71666958e-03 -3.24783404e-03 ...  2.14241259e-03\n",
            "   -1.99256558e-02 -4.07114811e-03]]], shape=(64, 100, 65), dtype=float32)\n"
          ]
        }
      ]
    },
    {
      "cell_type": "code",
      "source": [
        "# lets examine one prediction\n",
        "pred = example_batch_predictions[0]\n",
        "print(len(pred))\n",
        "print(pred)\n",
        "# norice this is a 2d array of length 100, where each interior array is the prediction for the next character at each time step"
      ],
      "metadata": {
        "colab": {
          "base_uri": "https://localhost:8080/"
        },
        "id": "EA1TQFfLbBir",
        "outputId": "1608cf96-219d-4a20-e2cc-09460b94b3a7"
      },
      "id": "EA1TQFfLbBir",
      "execution_count": 26,
      "outputs": [
        {
          "output_type": "stream",
          "name": "stdout",
          "text": [
            "100\n",
            "tf.Tensor(\n",
            "[[ 0.00174479 -0.00458746  0.00640025 ...  0.00228899  0.00079803\n",
            "   0.00407404]\n",
            " [ 0.00367814 -0.0010073   0.00312372 ...  0.00228987  0.00122552\n",
            "  -0.00306183]\n",
            " [ 0.00597824  0.00297527 -0.00410112 ...  0.00677585 -0.00234531\n",
            "  -0.00544931]\n",
            " ...\n",
            " [ 0.00637669 -0.00216521 -0.01627743 ...  0.01400318 -0.01038347\n",
            "  -0.01613157]\n",
            " [ 0.00361904 -0.00934662 -0.01437506 ...  0.01808536 -0.01190858\n",
            "  -0.00922965]\n",
            " [-0.00710853 -0.0126878  -0.00626307 ...  0.01469649 -0.01416258\n",
            "  -0.00627733]], shape=(100, 65), dtype=float32)\n"
          ]
        }
      ]
    },
    {
      "cell_type": "code",
      "source": [],
      "metadata": {
        "id": "6MGMW1gOe8JN"
      },
      "id": "6MGMW1gOe8JN",
      "execution_count": null,
      "outputs": []
    },
    {
      "cell_type": "code",
      "source": [
        "# and finally we will look at prediction at hte first timestep\n",
        "time_pred = pred[0]\n",
        "print(len(time_pred))\n",
        "print(time_pred)\n",
        "# and of course its 65 values representing the probability of each character occuring next"
      ],
      "metadata": {
        "colab": {
          "base_uri": "https://localhost:8080/"
        },
        "id": "JjPGg4xCcGbK",
        "outputId": "e8deadb0-6756-44ee-dbe8-b9e733369c21"
      },
      "id": "JjPGg4xCcGbK",
      "execution_count": 28,
      "outputs": [
        {
          "output_type": "stream",
          "name": "stdout",
          "text": [
            "65\n",
            "tf.Tensor(\n",
            "[ 1.7447891e-03 -4.5874552e-03  6.4002499e-03  7.0408703e-04\n",
            " -6.8087429e-03 -3.7496141e-04 -1.4836577e-03  1.6274641e-03\n",
            " -4.3734605e-03  1.8359058e-03  2.0534098e-03  5.1760906e-03\n",
            "  3.0685086e-03 -9.6623658e-04 -4.6553873e-03  4.3298760e-03\n",
            "  3.5202678e-04  2.9715451e-03 -3.4012992e-03  5.7629519e-04\n",
            " -2.2375612e-03 -5.5704121e-03 -6.2991213e-04  9.2583662e-04\n",
            "  1.5664682e-03  2.6586107e-03  3.8239122e-03 -8.1424462e-04\n",
            " -2.6969274e-04  3.8822478e-04  4.7388044e-03  1.5490240e-03\n",
            "  3.9598988e-03 -4.3742321e-03  3.5265575e-03  1.1627902e-03\n",
            "  2.2004331e-03  4.5973877e-03 -2.9012698e-04 -4.3895788e-04\n",
            " -2.6791238e-03  1.2445783e-03 -1.1732074e-03 -1.9317524e-03\n",
            "  2.4093280e-03  1.8689549e-05 -7.2859796e-03  4.9752831e-03\n",
            " -6.0120495e-03  2.1072282e-03 -2.2722331e-03 -3.4277013e-03\n",
            "  3.1049738e-03 -8.0353161e-04  4.3310127e-03 -1.3461699e-03\n",
            " -4.0467880e-03  1.0683239e-03  9.7972096e-04  1.0027885e-03\n",
            " -1.3316108e-05 -7.9112016e-03  2.2889872e-03  7.9802825e-04\n",
            "  4.0740431e-03], shape=(65,), dtype=float32)\n"
          ]
        }
      ]
    },
    {
      "cell_type": "code",
      "source": [
        "# If we want to determine the predicted character we need to sample the output distribution\n",
        "sampled_indices = tf.random.categorical(pred, num_samples=1)\n",
        "\n",
        "# #now we can reshape that array and convert all the integers to numbers to see the actual characters\n",
        "sampled_indices = np.reshape(sampled_indices, (1, -1))[0]\n",
        "predicted_chars = int_to_text(sampled_indices)\n",
        "predicted_chars # and this is what the model predicted for training sequence 1"
      ],
      "metadata": {
        "colab": {
          "base_uri": "https://localhost:8080/",
          "height": 36
        },
        "id": "zt34G7p2dPnP",
        "outputId": "34560db4-6896-4a45-a309-a912fa709606"
      },
      "id": "zt34G7p2dPnP",
      "execution_count": 29,
      "outputs": [
        {
          "output_type": "execute_result",
          "data": {
            "text/plain": [
              "\",'\\n:&bA izvpaCKMCtNpaohxiQyRsc&mBjGKeubBzJP;eRLbvXqBfBGpGeEe&iIGhiMUbtJn&DSMdjwXFhI?.,Es&M3kDYxjQI-,\""
            ],
            "application/vnd.google.colaboratory.intrinsic+json": {
              "type": "string"
            }
          },
          "metadata": {},
          "execution_count": 29
        }
      ]
    },
    {
      "cell_type": "markdown",
      "source": [
        "So now we need to create a loss function that can compare that output to the expected output and give us some numeric value representing\n",
        "how close the two were."
      ],
      "metadata": {
        "id": "MyC6TWXvgUzP"
      },
      "id": "MyC6TWXvgUzP"
    },
    {
      "cell_type": "code",
      "source": [
        "def loss(labels, logits):\n",
        "  return tf.keras.losses.sparse_categorical_crossentropy(labels, logits, from_logits=True)"
      ],
      "metadata": {
        "id": "G8HQvKhVgK5s"
      },
      "id": "G8HQvKhVgK5s",
      "execution_count": 31,
      "outputs": []
    },
    {
      "cell_type": "markdown",
      "source": [
        "# Compiling the Model\n",
        "At this point we can think of our problem as a classification problem where the model predicts the probabillity of each unique letter coming\n",
        "next."
      ],
      "metadata": {
        "id": "e2yNIl0qhPWg"
      },
      "id": "e2yNIl0qhPWg"
    },
    {
      "cell_type": "code",
      "source": [
        "model.compile(optimizer = 'adam', loss = loss)"
      ],
      "metadata": {
        "id": "tLZzUtH8hD5Q"
      },
      "id": "tLZzUtH8hD5Q",
      "execution_count": 32,
      "outputs": []
    }
  ],
  "metadata": {
    "kernelspec": {
      "display_name": "Python 3 (ipykernel)",
      "language": "python",
      "name": "python3"
    },
    "language_info": {
      "codemirror_mode": {
        "name": "ipython",
        "version": 3
      },
      "file_extension": ".py",
      "mimetype": "text/x-python",
      "name": "python",
      "nbconvert_exporter": "python",
      "pygments_lexer": "ipython3",
      "version": "3.10.6"
    },
    "colab": {
      "provenance": [],
      "collapsed_sections": []
    }
  },
  "nbformat": 4,
  "nbformat_minor": 5
}